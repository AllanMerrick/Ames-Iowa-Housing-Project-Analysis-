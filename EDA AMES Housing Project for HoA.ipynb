{
 "cells": [
  {
   "cell_type": "markdown",
   "metadata": {},
   "source": [
    "# Project Name: AMES House Feature Selection - Increasing Home Value"
   ]
  },
  {
   "cell_type": "markdown",
   "metadata": {},
   "source": [
    "## Problem Statement"
   ]
  },
  {
   "cell_type": "markdown",
   "metadata": {},
   "source": [
    "Given the dataset from Kaggle's challenge: [Ames Housing Dataset](#https://www.kaggle.com/c/dsi-us-11-project-2-regression-challenge/overview), we were tasked with testing and identifying house-features best suited for estimating a house price. Our overall recommendations will err more on advisement side of prioritizing house features as opposed to expecting house price.\n",
    "<br> <br><t>HoA is suffering because home-owner negligence is driving property value down. Complaints received identified that the HoA's home-value assessments are unfounded thus home-owners are no longer following HoA policies.\n",
    "<br><br>\n",
    "The problem we identify here: what can we do to improve our neighborhood's home values during a time of low HoA approval and regulation following. \n",
    "<br>\n",
    "We will look at individual feature sets and use regression model scoring to identify influentifial home features. Then we'll compare this with external research to identify best recommendations with influence to improving home price."
   ]
  },
  {
   "cell_type": "markdown",
   "metadata": {},
   "source": [
    "## Executive Summary:"
   ]
  },
  {
   "cell_type": "markdown",
   "metadata": {},
   "source": [
    "Our models showed our single numerical categories to give us the best consistent regression scoring (R2, MRSE, CrossVal). These consisted mostly of room related scorings and quantities. While our Numerical Category Regression model averaged a score of approximately 74% variability explained, it swung a large Root Mean Squared Error of close to 40,000. <br> <br> \n",
    "Understanding this we can use the numerical R scoring and investigate its correlation to sale price, then find home projects that fall within the individual average home owner's finance. <br> <br> External research confirms we have several means to take wihtin our own personal homes for value improvement as well as legal means to pursue enforcement of architechtural upgrades."
   ]
  },
  {
   "cell_type": "markdown",
   "metadata": {},
   "source": [
    "### Contents:"
   ]
  },
  {
   "cell_type": "markdown",
   "metadata": {},
   "source": [
    "- [Library-Imports](#Library-Imports)\n",
    "- [Data Import and Cleaning](#Data-Import-and-Cleaning)\n",
    " - [Cleaning and Feature Selection](#Cleaning-and-Feature-Selection)\n",
    "  - [Categorical](#Categorical-House-Features)\n",
    "  - [Numerical](#Numerical-Features)\n",
    "  - [Scaled](#Scaled-Features)\n",
    "- [Exploratory Data Analysis](#Exploratory-Data-Analysis)\n",
    " - [Categorical Features](#Categorical)\n",
    "   - [Score](#Categorical-Score-Summary)\n",
    " - [Numerical Features](#Numerical)\n",
    "   - [Score](#Numercal-Score-Summary)\n",
    " - [Scaled Features](#Scaled-Numerics)\n",
    "   - [Score](#Scaled-Score-Summary)\n",
    "- [Data Visualization](#Data-Visualization)\n",
    "- [External Research](#External-Research)\n",
    "- [Conclusions and Recommendations](#Conclusions-and-Recommendations)"
   ]
  },
  {
   "cell_type": "markdown",
   "metadata": {},
   "source": [
    "# Journal Data Dictionary\n",
    "- [Ames Dataset Data Dictionary](#https://www.kaggle.com/c/dsi-us-11-project-2-regression-challenge/data)\n",
    "<br>This will be a list of variable assignments referenced throughout our analysis."
   ]
  },
  {
   "cell_type": "markdown",
   "metadata": {},
   "source": [
    "***Dataframes:***\n",
    "- `testdf` : testing data frame after imputing and/or deleting nan's during cleaning\n",
    "- `train` : testing dataframe after imputing and/or deleting nan's during cleaning\n",
    "- `testog` : unfiltered, unmodified dataframe for reference\n",
    "- `dfv1` : categorical training dataframe\n",
    "- `testv1` : categorical testing datafram\n",
    "- `subf#` : dataframe assignment for exporting to csv in Kaggle's requested format\n",
    "- `testnm` : numerical test set\n",
    "- `numtrain` : numerical train set\n",
    "- `testsq` : scaled numerical features formatted from our test dataset.\n",
    "- `sqtrain` : scaled numerical features formatted from o ur train set\n",
    "\n",
    "***Features, variables, and lists:***\n",
    "\n",
    "- `features` : Categorical features selected to apply to `train` set.\n",
    "- `traincols` : Categorical training set includes `'price'` amd `'id'`\n",
    "- `testcols` : Categorical `test` set that includes and `'id'`\n",
    "- `num_feats` : Numerical feature set for our `train` dataframe includes `'SalePrice'` and `'Id'`\n",
    "- `tnum_feats` : Numerical feature set for our `test` dataframe includes `'id'`\n",
    "- `sq_feats` : Scalable Numeral feature set for our `train` dataframe includes `'SalePrice'` and `'Id'`\n",
    "- `tsq_feats` : Scalable Numeral feature set for our `test` dataframe includes `'id'`\n",
    "- `X, y, and variants` : These are our regression feature and variable assignments. code blocks will contain descriptions of each.\n",
    "- `preds, trainpreds, etc.` : these are our y_prediction variables established from our model.\n",
    "\n",
    "***One-Use Variables***\n",
    "\n",
    "- `tempcols` : list comprehension for building neighborhood list to compare against test\n",
    "- `tempcols2` : list comprehension for building neighborhood list to compare against train\n",
    "\n"
   ]
  },
  {
   "cell_type": "markdown",
   "metadata": {},
   "source": [
    "# Library Imports"
   ]
  },
  {
   "cell_type": "code",
   "execution_count": 1,
   "metadata": {},
   "outputs": [],
   "source": [
    "import pandas as pd\n",
    "import numpy as np\n",
    "import matplotlib.pyplot as plt\n",
    "from sklearn import metrics\n",
    "from sklearn.linear_model import LinearRegression\n",
    "from sklearn.model_selection import cross_val_score, train_test_split\n",
    "from sklearn.preprocessing import StandardScaler\n",
    "import statsmodels.api as sm\n",
    "import seaborn as sns"
   ]
  },
  {
   "cell_type": "markdown",
   "metadata": {},
   "source": [
    "# Data Import and Cleaning\n",
    "- [Data Dictionary](#https://www.kaggle.com/c/dsi-us-11-project-2-regression-challenge/data)"
   ]
  },
  {
   "cell_type": "code",
   "execution_count": 2,
   "metadata": {},
   "outputs": [],
   "source": [
    "testdf = pd.read_csv('../datasets/test.csv') #reads in our test df\n",
    "train = pd.read_csv('../datasets/train.csv') # reads in our training set\n",
    "testog = testdf # we will want a fresh test df for model predictions"
   ]
  },
  {
   "cell_type": "markdown",
   "metadata": {},
   "source": [
    "## Cleaning and Feature Selection:\n",
    "##### Methodology: \n",
    "- Categorical variables were identified, numerical(int/float) categorized into:\n",
    " - requires scaling\n",
    " - does not require scalaing\n",
    "- Blanks and NaNs assessed for identified columns will be imputed or removed\n",
    "- Each category will be tested with r2, cross_val, rmse, along a split_train_test.\n",
    "- Finally we'll select our highest scoring model and explore exterenal context via realty markets.\n",
    "- `random_state = 123` is selected for proper reproduction of results and bring consistency with journal comments\n",
    "\n",
    "**Note: EDA will be broken down into each individual feature set, modeling, and findings."
   ]
  },
  {
   "cell_type": "markdown",
   "metadata": {},
   "source": [
    "#### Features:\n",
    "- Categorical House Features\n",
    "- Scaled Features\n",
    "- Numerical Features  "
   ]
  },
  {
   "cell_type": "code",
   "execution_count": 3,
   "metadata": {},
   "outputs": [],
   "source": [
    "newtestcols = [str.lower(i) for i in testdf.columns] #lowercase our columns for ease of typing\n",
    "newtraincols = [str.lower(i) for i in train.columns] #lowercase our columns for ease of typing"
   ]
  },
  {
   "cell_type": "code",
   "execution_count": 4,
   "metadata": {},
   "outputs": [],
   "source": [
    "testdf.columns = newtestcols #update columns to lower case\n",
    "train.columns = newtraincols #update columns to lower case"
   ]
  },
  {
   "cell_type": "markdown",
   "metadata": {},
   "source": [
    "#### ***Categorical House Features***\n",
    "<br>***We reviewed each categorical house feature by object datatypes. Searching for categories that your average HoA council would understand was easy. Each category offered plenty of choices for dummy columns.***\n",
    "- `street` and `neighborhood` were specifically included to account for the possible of location, as HoA members were heavily biased in neighborhood status."
   ]
  },
  {
   "cell_type": "code",
   "execution_count": 5,
   "metadata": {},
   "outputs": [],
   "source": [
    "# desired features selected\n",
    "features = ['street',       \n",
    "             'alley',       \n",
    "             'lot shape',   \n",
    "             'land contour',\n",
    "             'utilities',   \n",
    "             'lot config',  \n",
    "             'neighborhood',\n",
    "             'bldg type',   \n",
    "             'house style'] \n",
    "\n",
    "# training set cols including saleprice/id\n",
    "traincols = ['id',          \n",
    "            'street',       \n",
    "            'alley',        \n",
    "            'lot shape',    \n",
    "            'land contour', \n",
    "            'utilities',    \n",
    "            'lot config',   \n",
    "            'neighborhood',\n",
    "            'bldg type',    \n",
    "            'house style',  \n",
    "            'saleprice']    \n",
    "\n",
    "# test set cols including id\n",
    "testcols = ['id',           \n",
    "            'street',       \n",
    "            'alley',        \n",
    "            'lot shape',    \n",
    "            'land contour', \n",
    "            'utilities',    \n",
    "            'lot config',   \n",
    "            'neighborhood', \n",
    "            'bldg type',    \n",
    "            'house style']  "
   ]
  },
  {
   "cell_type": "markdown",
   "metadata": {},
   "source": [
    "#### ***Numerical Features***\n"
   ]
  },
  {
   "cell_type": "code",
   "execution_count": 6,
   "metadata": {},
   "outputs": [],
   "source": [
    "# numerical features we will capture for X on our training set\n",
    "num_feats = ['Id',\n",
    "             'Overall Qual',\n",
    "             'Overall Qual',\n",
    "             'Bsmt Full Bath',\n",
    "             'Bsmt Half Bath',\n",
    "             'Full Bath',\n",
    "             'Half Bath',\n",
    "             'Bedroom AbvGr',\n",
    "             'Kitchen AbvGr',\n",
    "             'TotRms AbvGrd',\n",
    "             'Garage Cars',\n",
    "             'Saleprice']\n",
    "# replicated column set for test, includes \n",
    "tnum_feats = ['id',\n",
    "              'overall qual',\n",
    "              'overall qual',\n",
    "              'bsmt full bath',\n",
    "              'bsmt half bath',\n",
    "              'full bath',\n",
    "              'half bath',\n",
    "              'bedroom abvgr',\n",
    "              'kitchen abvgr',\n",
    "              'totrms abvgrd',\n",
    "              'garage cars']"
   ]
  },
  {
   "cell_type": "markdown",
   "metadata": {},
   "source": [
    "#### ***Scaled Features***\n",
    "***These categories were a simple matter of cross-verifying the data dictionary with the fact that these features were in measures of square footage, while also qualifying with direct house measurements that HoA members could readily procure themselves.***"
   ]
  },
  {
   "cell_type": "code",
   "execution_count": 7,
   "metadata": {},
   "outputs": [],
   "source": [
    "#Scaled featires for training set, includes our target 'Saleprice' and 'Id' \n",
    "sq_feats = ['Id',\n",
    "            'Lot Area',\n",
    "            'BsmtFin SF 1',\n",
    "            'BsmtFin SF 2',\n",
    "            'Bsmt Unf SF',\n",
    "            'Total Bsmt SF',\n",
    "            '1st Flr SF',\n",
    "            'Gr Liv Area',\n",
    "            'Garage Area',\n",
    "            'Open Porch SF',\n",
    "            'Wood Deck SF',\n",
    "            'Saleprice']\n",
    "\n",
    "\n",
    "#Scaled featires for test set, includes our target 'saleprice' and 'id' \n",
    "tsq_feats = ['id',\n",
    "             'lot area',\n",
    "             'bsmtfin sf 1',\n",
    "             'bsmtfin sf 2',\n",
    "             'bsmt unf sf',\n",
    "             'total bsmt sf',\n",
    "             '1st flr sf',\n",
    "             'gr liv area',\n",
    "             'garage area',\n",
    "             'open porch sf',\n",
    "             'wood deck sf']\n",
    "\n"
   ]
  },
  {
   "cell_type": "code",
   "execution_count": 8,
   "metadata": {},
   "outputs": [],
   "source": [
    "#list comprehension to lower all the items in feature lists with capitals\n",
    "sq_feats = [str.lower(i) for i in sq_feats]\n",
    "num_feats = [str.lower(i) for i in num_feats]"
   ]
  },
  {
   "cell_type": "code",
   "execution_count": 9,
   "metadata": {},
   "outputs": [
    {
     "data": {
      "text/plain": [
       "id                int64\n",
       "pid               int64\n",
       "ms subclass       int64\n",
       "ms zoning        object\n",
       "lot frontage    float64\n",
       "                 ...   \n",
       "misc feature     object\n",
       "misc val          int64\n",
       "mo sold           int64\n",
       "yr sold           int64\n",
       "sale type        object\n",
       "Length: 80, dtype: object"
      ]
     },
     "execution_count": 9,
     "metadata": {},
     "output_type": "execute_result"
    }
   ],
   "source": [
    "# some general data, however we'll pay more attention \n",
    "## when we focus on our selected categories\n",
    "testdf.dtypes"
   ]
  },
  {
   "cell_type": "code",
   "execution_count": 10,
   "metadata": {},
   "outputs": [
    {
     "data": {
      "text/plain": [
       "id                int64\n",
       "pid               int64\n",
       "ms subclass       int64\n",
       "ms zoning        object\n",
       "lot frontage    float64\n",
       "                 ...   \n",
       "misc val          int64\n",
       "mo sold           int64\n",
       "yr sold           int64\n",
       "sale type        object\n",
       "saleprice         int64\n",
       "Length: 81, dtype: object"
      ]
     },
     "execution_count": 10,
     "metadata": {},
     "output_type": "execute_result"
    }
   ],
   "source": [
    "train.dtypes"
   ]
  },
  {
   "cell_type": "code",
   "execution_count": 11,
   "metadata": {},
   "outputs": [
    {
     "data": {
      "text/plain": [
       "id                0\n",
       "pid               0\n",
       "ms subclass       0\n",
       "ms zoning         0\n",
       "lot frontage    160\n",
       "               ... \n",
       "misc feature    837\n",
       "misc val          0\n",
       "mo sold           0\n",
       "yr sold           0\n",
       "sale type         0\n",
       "Length: 80, dtype: int64"
      ]
     },
     "execution_count": 11,
     "metadata": {},
     "output_type": "execute_result"
    }
   ],
   "source": [
    "testdf.isnull().sum()"
   ]
  },
  {
   "cell_type": "code",
   "execution_count": 12,
   "metadata": {},
   "outputs": [
    {
     "data": {
      "text/plain": [
       "id                0\n",
       "pid               0\n",
       "ms subclass       0\n",
       "ms zoning         0\n",
       "lot frontage    330\n",
       "               ... \n",
       "misc val          0\n",
       "mo sold           0\n",
       "yr sold           0\n",
       "sale type         0\n",
       "saleprice         0\n",
       "Length: 81, dtype: int64"
      ]
     },
     "execution_count": 12,
     "metadata": {},
     "output_type": "execute_result"
    }
   ],
   "source": [
    "train.isnull().sum()"
   ]
  },
  {
   "cell_type": "code",
   "execution_count": 13,
   "metadata": {},
   "outputs": [
    {
     "data": {
      "text/html": [
       "<div>\n",
       "<style scoped>\n",
       "    .dataframe tbody tr th:only-of-type {\n",
       "        vertical-align: middle;\n",
       "    }\n",
       "\n",
       "    .dataframe tbody tr th {\n",
       "        vertical-align: top;\n",
       "    }\n",
       "\n",
       "    .dataframe thead th {\n",
       "        text-align: right;\n",
       "    }\n",
       "</style>\n",
       "<table border=\"1\" class=\"dataframe\">\n",
       "  <thead>\n",
       "    <tr style=\"text-align: right;\">\n",
       "      <th></th>\n",
       "      <th>saleprice</th>\n",
       "    </tr>\n",
       "  </thead>\n",
       "  <tbody>\n",
       "    <tr>\n",
       "      <th>saleprice</th>\n",
       "      <td>1.000000</td>\n",
       "    </tr>\n",
       "    <tr>\n",
       "      <th>overall qual</th>\n",
       "      <td>0.800207</td>\n",
       "    </tr>\n",
       "    <tr>\n",
       "      <th>gr liv area</th>\n",
       "      <td>0.697038</td>\n",
       "    </tr>\n",
       "    <tr>\n",
       "      <th>garage area</th>\n",
       "      <td>0.650270</td>\n",
       "    </tr>\n",
       "    <tr>\n",
       "      <th>garage cars</th>\n",
       "      <td>0.648220</td>\n",
       "    </tr>\n",
       "    <tr>\n",
       "      <th>total bsmt sf</th>\n",
       "      <td>0.628925</td>\n",
       "    </tr>\n",
       "    <tr>\n",
       "      <th>1st flr sf</th>\n",
       "      <td>0.618486</td>\n",
       "    </tr>\n",
       "    <tr>\n",
       "      <th>year built</th>\n",
       "      <td>0.571849</td>\n",
       "    </tr>\n",
       "    <tr>\n",
       "      <th>year remod/add</th>\n",
       "      <td>0.550370</td>\n",
       "    </tr>\n",
       "    <tr>\n",
       "      <th>full bath</th>\n",
       "      <td>0.537969</td>\n",
       "    </tr>\n",
       "    <tr>\n",
       "      <th>garage yr blt</th>\n",
       "      <td>0.533922</td>\n",
       "    </tr>\n",
       "    <tr>\n",
       "      <th>mas vnr area</th>\n",
       "      <td>0.512230</td>\n",
       "    </tr>\n",
       "    <tr>\n",
       "      <th>totrms abvgrd</th>\n",
       "      <td>0.504014</td>\n",
       "    </tr>\n",
       "    <tr>\n",
       "      <th>fireplaces</th>\n",
       "      <td>0.471093</td>\n",
       "    </tr>\n",
       "    <tr>\n",
       "      <th>bsmtfin sf 1</th>\n",
       "      <td>0.423519</td>\n",
       "    </tr>\n",
       "    <tr>\n",
       "      <th>lot frontage</th>\n",
       "      <td>0.341842</td>\n",
       "    </tr>\n",
       "    <tr>\n",
       "      <th>open porch sf</th>\n",
       "      <td>0.333476</td>\n",
       "    </tr>\n",
       "    <tr>\n",
       "      <th>wood deck sf</th>\n",
       "      <td>0.326490</td>\n",
       "    </tr>\n",
       "    <tr>\n",
       "      <th>lot area</th>\n",
       "      <td>0.296566</td>\n",
       "    </tr>\n",
       "    <tr>\n",
       "      <th>bsmt full bath</th>\n",
       "      <td>0.283662</td>\n",
       "    </tr>\n",
       "    <tr>\n",
       "      <th>half bath</th>\n",
       "      <td>0.283001</td>\n",
       "    </tr>\n",
       "    <tr>\n",
       "      <th>2nd flr sf</th>\n",
       "      <td>0.248452</td>\n",
       "    </tr>\n",
       "    <tr>\n",
       "      <th>bsmt unf sf</th>\n",
       "      <td>0.190210</td>\n",
       "    </tr>\n",
       "    <tr>\n",
       "      <th>bedroom abvgr</th>\n",
       "      <td>0.137067</td>\n",
       "    </tr>\n",
       "    <tr>\n",
       "      <th>screen porch</th>\n",
       "      <td>0.134581</td>\n",
       "    </tr>\n",
       "    <tr>\n",
       "      <th>3ssn porch</th>\n",
       "      <td>0.048732</td>\n",
       "    </tr>\n",
       "    <tr>\n",
       "      <th>mo sold</th>\n",
       "      <td>0.032735</td>\n",
       "    </tr>\n",
       "    <tr>\n",
       "      <th>pool area</th>\n",
       "      <td>0.023106</td>\n",
       "    </tr>\n",
       "    <tr>\n",
       "      <th>bsmtfin sf 2</th>\n",
       "      <td>0.016255</td>\n",
       "    </tr>\n",
       "    <tr>\n",
       "      <th>misc val</th>\n",
       "      <td>-0.007375</td>\n",
       "    </tr>\n",
       "    <tr>\n",
       "      <th>yr sold</th>\n",
       "      <td>-0.015203</td>\n",
       "    </tr>\n",
       "    <tr>\n",
       "      <th>low qual fin sf</th>\n",
       "      <td>-0.041594</td>\n",
       "    </tr>\n",
       "    <tr>\n",
       "      <th>bsmt half bath</th>\n",
       "      <td>-0.045328</td>\n",
       "    </tr>\n",
       "    <tr>\n",
       "      <th>id</th>\n",
       "      <td>-0.051398</td>\n",
       "    </tr>\n",
       "    <tr>\n",
       "      <th>ms subclass</th>\n",
       "      <td>-0.087335</td>\n",
       "    </tr>\n",
       "    <tr>\n",
       "      <th>overall cond</th>\n",
       "      <td>-0.097019</td>\n",
       "    </tr>\n",
       "    <tr>\n",
       "      <th>kitchen abvgr</th>\n",
       "      <td>-0.125444</td>\n",
       "    </tr>\n",
       "    <tr>\n",
       "      <th>enclosed porch</th>\n",
       "      <td>-0.135656</td>\n",
       "    </tr>\n",
       "    <tr>\n",
       "      <th>pid</th>\n",
       "      <td>-0.255052</td>\n",
       "    </tr>\n",
       "  </tbody>\n",
       "</table>\n",
       "</div>"
      ],
      "text/plain": [
       "                 saleprice\n",
       "saleprice         1.000000\n",
       "overall qual      0.800207\n",
       "gr liv area       0.697038\n",
       "garage area       0.650270\n",
       "garage cars       0.648220\n",
       "total bsmt sf     0.628925\n",
       "1st flr sf        0.618486\n",
       "year built        0.571849\n",
       "year remod/add    0.550370\n",
       "full bath         0.537969\n",
       "garage yr blt     0.533922\n",
       "mas vnr area      0.512230\n",
       "totrms abvgrd     0.504014\n",
       "fireplaces        0.471093\n",
       "bsmtfin sf 1      0.423519\n",
       "lot frontage      0.341842\n",
       "open porch sf     0.333476\n",
       "wood deck sf      0.326490\n",
       "lot area          0.296566\n",
       "bsmt full bath    0.283662\n",
       "half bath         0.283001\n",
       "2nd flr sf        0.248452\n",
       "bsmt unf sf       0.190210\n",
       "bedroom abvgr     0.137067\n",
       "screen porch      0.134581\n",
       "3ssn porch        0.048732\n",
       "mo sold           0.032735\n",
       "pool area         0.023106\n",
       "bsmtfin sf 2      0.016255\n",
       "misc val         -0.007375\n",
       "yr sold          -0.015203\n",
       "low qual fin sf  -0.041594\n",
       "bsmt half bath   -0.045328\n",
       "id               -0.051398\n",
       "ms subclass      -0.087335\n",
       "overall cond     -0.097019\n",
       "kitchen abvgr    -0.125444\n",
       "enclosed porch   -0.135656\n",
       "pid              -0.255052"
      ]
     },
     "execution_count": 13,
     "metadata": {},
     "output_type": "execute_result"
    }
   ],
   "source": [
    "train.corr()[['saleprice']].sort_values('saleprice', ascending = False)"
   ]
  },
  {
   "cell_type": "code",
   "execution_count": 14,
   "metadata": {},
   "outputs": [
    {
     "data": {
      "text/html": [
       "<div>\n",
       "<style scoped>\n",
       "    .dataframe tbody tr th:only-of-type {\n",
       "        vertical-align: middle;\n",
       "    }\n",
       "\n",
       "    .dataframe tbody tr th {\n",
       "        vertical-align: top;\n",
       "    }\n",
       "\n",
       "    .dataframe thead th {\n",
       "        text-align: right;\n",
       "    }\n",
       "</style>\n",
       "<table border=\"1\" class=\"dataframe\">\n",
       "  <thead>\n",
       "    <tr style=\"text-align: right;\">\n",
       "      <th></th>\n",
       "      <th>id</th>\n",
       "      <th>pid</th>\n",
       "      <th>ms subclass</th>\n",
       "      <th>lot frontage</th>\n",
       "      <th>lot area</th>\n",
       "      <th>overall qual</th>\n",
       "      <th>overall cond</th>\n",
       "      <th>year built</th>\n",
       "      <th>year remod/add</th>\n",
       "      <th>mas vnr area</th>\n",
       "      <th>...</th>\n",
       "      <th>garage area</th>\n",
       "      <th>wood deck sf</th>\n",
       "      <th>open porch sf</th>\n",
       "      <th>enclosed porch</th>\n",
       "      <th>3ssn porch</th>\n",
       "      <th>screen porch</th>\n",
       "      <th>pool area</th>\n",
       "      <th>misc val</th>\n",
       "      <th>mo sold</th>\n",
       "      <th>yr sold</th>\n",
       "    </tr>\n",
       "  </thead>\n",
       "  <tbody>\n",
       "    <tr>\n",
       "      <th>id</th>\n",
       "      <td>1.000000</td>\n",
       "      <td>0.168120</td>\n",
       "      <td>-0.022195</td>\n",
       "      <td>0.032199</td>\n",
       "      <td>0.028352</td>\n",
       "      <td>-0.021307</td>\n",
       "      <td>0.023618</td>\n",
       "      <td>-0.026613</td>\n",
       "      <td>-0.042050</td>\n",
       "      <td>-0.023947</td>\n",
       "      <td>...</td>\n",
       "      <td>-0.014802</td>\n",
       "      <td>-0.017837</td>\n",
       "      <td>0.045393</td>\n",
       "      <td>0.018011</td>\n",
       "      <td>-0.030013</td>\n",
       "      <td>-0.009833</td>\n",
       "      <td>0.044071</td>\n",
       "      <td>0.009808</td>\n",
       "      <td>0.145787</td>\n",
       "      <td>-0.976564</td>\n",
       "    </tr>\n",
       "    <tr>\n",
       "      <th>pid</th>\n",
       "      <td>0.168120</td>\n",
       "      <td>1.000000</td>\n",
       "      <td>0.003912</td>\n",
       "      <td>-0.114767</td>\n",
       "      <td>0.049926</td>\n",
       "      <td>-0.261138</td>\n",
       "      <td>0.099593</td>\n",
       "      <td>-0.336595</td>\n",
       "      <td>-0.111894</td>\n",
       "      <td>-0.195461</td>\n",
       "      <td>...</td>\n",
       "      <td>-0.236341</td>\n",
       "      <td>-0.076886</td>\n",
       "      <td>-0.056141</td>\n",
       "      <td>0.188510</td>\n",
       "      <td>-0.025302</td>\n",
       "      <td>0.016030</td>\n",
       "      <td>-0.028212</td>\n",
       "      <td>-0.038484</td>\n",
       "      <td>-0.095156</td>\n",
       "      <td>0.012456</td>\n",
       "    </tr>\n",
       "    <tr>\n",
       "      <th>ms subclass</th>\n",
       "      <td>-0.022195</td>\n",
       "      <td>0.003912</td>\n",
       "      <td>1.000000</td>\n",
       "      <td>-0.495304</td>\n",
       "      <td>-0.152010</td>\n",
       "      <td>0.049421</td>\n",
       "      <td>-0.060973</td>\n",
       "      <td>0.038803</td>\n",
       "      <td>0.039624</td>\n",
       "      <td>0.016745</td>\n",
       "      <td>...</td>\n",
       "      <td>-0.091309</td>\n",
       "      <td>-0.064931</td>\n",
       "      <td>-0.002610</td>\n",
       "      <td>0.009240</td>\n",
       "      <td>-0.056814</td>\n",
       "      <td>-0.080303</td>\n",
       "      <td>0.000311</td>\n",
       "      <td>-0.033519</td>\n",
       "      <td>-0.030822</td>\n",
       "      <td>0.016369</td>\n",
       "    </tr>\n",
       "    <tr>\n",
       "      <th>lot frontage</th>\n",
       "      <td>0.032199</td>\n",
       "      <td>-0.114767</td>\n",
       "      <td>-0.495304</td>\n",
       "      <td>1.000000</td>\n",
       "      <td>0.421187</td>\n",
       "      <td>0.246809</td>\n",
       "      <td>-0.120607</td>\n",
       "      <td>0.147245</td>\n",
       "      <td>0.104091</td>\n",
       "      <td>0.221572</td>\n",
       "      <td>...</td>\n",
       "      <td>0.354358</td>\n",
       "      <td>0.130516</td>\n",
       "      <td>0.098338</td>\n",
       "      <td>0.044520</td>\n",
       "      <td>0.021197</td>\n",
       "      <td>0.083014</td>\n",
       "      <td>0.222612</td>\n",
       "      <td>0.022370</td>\n",
       "      <td>0.075921</td>\n",
       "      <td>-0.044872</td>\n",
       "    </tr>\n",
       "    <tr>\n",
       "      <th>lot area</th>\n",
       "      <td>0.028352</td>\n",
       "      <td>0.049926</td>\n",
       "      <td>-0.152010</td>\n",
       "      <td>0.421187</td>\n",
       "      <td>1.000000</td>\n",
       "      <td>0.080864</td>\n",
       "      <td>-0.058826</td>\n",
       "      <td>0.001246</td>\n",
       "      <td>-0.028250</td>\n",
       "      <td>0.057634</td>\n",
       "      <td>...</td>\n",
       "      <td>0.138601</td>\n",
       "      <td>0.168038</td>\n",
       "      <td>0.035088</td>\n",
       "      <td>0.032907</td>\n",
       "      <td>0.012255</td>\n",
       "      <td>0.039328</td>\n",
       "      <td>0.065079</td>\n",
       "      <td>0.033565</td>\n",
       "      <td>0.000416</td>\n",
       "      <td>-0.012974</td>\n",
       "    </tr>\n",
       "    <tr>\n",
       "      <th>overall qual</th>\n",
       "      <td>-0.021307</td>\n",
       "      <td>-0.261138</td>\n",
       "      <td>0.049421</td>\n",
       "      <td>0.246809</td>\n",
       "      <td>0.080864</td>\n",
       "      <td>1.000000</td>\n",
       "      <td>-0.122401</td>\n",
       "      <td>0.582000</td>\n",
       "      <td>0.532024</td>\n",
       "      <td>0.405164</td>\n",
       "      <td>...</td>\n",
       "      <td>0.560325</td>\n",
       "      <td>0.250373</td>\n",
       "      <td>0.263036</td>\n",
       "      <td>-0.113804</td>\n",
       "      <td>-0.015024</td>\n",
       "      <td>0.023043</td>\n",
       "      <td>0.104038</td>\n",
       "      <td>-0.037613</td>\n",
       "      <td>0.056443</td>\n",
       "      <td>-0.039724</td>\n",
       "    </tr>\n",
       "    <tr>\n",
       "      <th>overall cond</th>\n",
       "      <td>0.023618</td>\n",
       "      <td>0.099593</td>\n",
       "      <td>-0.060973</td>\n",
       "      <td>-0.120607</td>\n",
       "      <td>-0.058826</td>\n",
       "      <td>-0.122401</td>\n",
       "      <td>1.000000</td>\n",
       "      <td>-0.363553</td>\n",
       "      <td>0.060317</td>\n",
       "      <td>-0.133305</td>\n",
       "      <td>...</td>\n",
       "      <td>-0.189795</td>\n",
       "      <td>0.043534</td>\n",
       "      <td>-0.104338</td>\n",
       "      <td>0.003140</td>\n",
       "      <td>0.082982</td>\n",
       "      <td>0.035966</td>\n",
       "      <td>-0.048916</td>\n",
       "      <td>0.081235</td>\n",
       "      <td>-0.016344</td>\n",
       "      <td>-0.006384</td>\n",
       "    </tr>\n",
       "    <tr>\n",
       "      <th>year built</th>\n",
       "      <td>-0.026613</td>\n",
       "      <td>-0.336595</td>\n",
       "      <td>0.038803</td>\n",
       "      <td>0.147245</td>\n",
       "      <td>0.001246</td>\n",
       "      <td>0.582000</td>\n",
       "      <td>-0.363553</td>\n",
       "      <td>1.000000</td>\n",
       "      <td>0.571823</td>\n",
       "      <td>0.277126</td>\n",
       "      <td>...</td>\n",
       "      <td>0.462318</td>\n",
       "      <td>0.259481</td>\n",
       "      <td>0.173134</td>\n",
       "      <td>-0.367720</td>\n",
       "      <td>0.015266</td>\n",
       "      <td>-0.051077</td>\n",
       "      <td>-0.002558</td>\n",
       "      <td>-0.039216</td>\n",
       "      <td>0.064740</td>\n",
       "      <td>-0.033469</td>\n",
       "    </tr>\n",
       "    <tr>\n",
       "      <th>year remod/add</th>\n",
       "      <td>-0.042050</td>\n",
       "      <td>-0.111894</td>\n",
       "      <td>0.039624</td>\n",
       "      <td>0.104091</td>\n",
       "      <td>-0.028250</td>\n",
       "      <td>0.532024</td>\n",
       "      <td>0.060317</td>\n",
       "      <td>0.571823</td>\n",
       "      <td>1.000000</td>\n",
       "      <td>0.161782</td>\n",
       "      <td>...</td>\n",
       "      <td>0.320132</td>\n",
       "      <td>0.221042</td>\n",
       "      <td>0.185684</td>\n",
       "      <td>-0.190541</td>\n",
       "      <td>0.030282</td>\n",
       "      <td>-0.061119</td>\n",
       "      <td>0.021947</td>\n",
       "      <td>-0.006549</td>\n",
       "      <td>0.032422</td>\n",
       "      <td>0.009236</td>\n",
       "    </tr>\n",
       "    <tr>\n",
       "      <th>mas vnr area</th>\n",
       "      <td>-0.023947</td>\n",
       "      <td>-0.195461</td>\n",
       "      <td>0.016745</td>\n",
       "      <td>0.221572</td>\n",
       "      <td>0.057634</td>\n",
       "      <td>0.405164</td>\n",
       "      <td>-0.133305</td>\n",
       "      <td>0.277126</td>\n",
       "      <td>0.161782</td>\n",
       "      <td>1.000000</td>\n",
       "      <td>...</td>\n",
       "      <td>0.345854</td>\n",
       "      <td>0.168519</td>\n",
       "      <td>0.084379</td>\n",
       "      <td>-0.117954</td>\n",
       "      <td>0.020114</td>\n",
       "      <td>0.019435</td>\n",
       "      <td>-0.015873</td>\n",
       "      <td>-0.031671</td>\n",
       "      <td>-0.003284</td>\n",
       "      <td>-0.014172</td>\n",
       "    </tr>\n",
       "    <tr>\n",
       "      <th>bsmtfin sf 1</th>\n",
       "      <td>-0.003672</td>\n",
       "      <td>-0.133389</td>\n",
       "      <td>-0.059001</td>\n",
       "      <td>0.207779</td>\n",
       "      <td>0.152526</td>\n",
       "      <td>0.288637</td>\n",
       "      <td>-0.061570</td>\n",
       "      <td>0.288428</td>\n",
       "      <td>0.110309</td>\n",
       "      <td>0.246482</td>\n",
       "      <td>...</td>\n",
       "      <td>0.250314</td>\n",
       "      <td>0.247257</td>\n",
       "      <td>0.066637</td>\n",
       "      <td>-0.149114</td>\n",
       "      <td>0.058552</td>\n",
       "      <td>0.105325</td>\n",
       "      <td>0.111991</td>\n",
       "      <td>-0.000972</td>\n",
       "      <td>0.015995</td>\n",
       "      <td>-0.012317</td>\n",
       "    </tr>\n",
       "    <tr>\n",
       "      <th>bsmtfin sf 2</th>\n",
       "      <td>-0.009195</td>\n",
       "      <td>0.024698</td>\n",
       "      <td>-0.077742</td>\n",
       "      <td>0.068427</td>\n",
       "      <td>0.146833</td>\n",
       "      <td>-0.069156</td>\n",
       "      <td>0.026855</td>\n",
       "      <td>-0.039877</td>\n",
       "      <td>-0.073342</td>\n",
       "      <td>-0.014303</td>\n",
       "      <td>...</td>\n",
       "      <td>-0.017301</td>\n",
       "      <td>0.082930</td>\n",
       "      <td>-0.006384</td>\n",
       "      <td>0.081079</td>\n",
       "      <td>-0.021476</td>\n",
       "      <td>-0.013961</td>\n",
       "      <td>0.001069</td>\n",
       "      <td>-0.004432</td>\n",
       "      <td>0.001071</td>\n",
       "      <td>0.021239</td>\n",
       "    </tr>\n",
       "    <tr>\n",
       "      <th>bsmt unf sf</th>\n",
       "      <td>-0.003255</td>\n",
       "      <td>-0.030732</td>\n",
       "      <td>-0.105940</td>\n",
       "      <td>0.089217</td>\n",
       "      <td>-0.004976</td>\n",
       "      <td>0.252908</td>\n",
       "      <td>-0.151703</td>\n",
       "      <td>0.108067</td>\n",
       "      <td>0.176645</td>\n",
       "      <td>0.104578</td>\n",
       "      <td>...</td>\n",
       "      <td>0.209977</td>\n",
       "      <td>-0.054115</td>\n",
       "      <td>0.123225</td>\n",
       "      <td>0.041623</td>\n",
       "      <td>-0.069117</td>\n",
       "      <td>-0.029719</td>\n",
       "      <td>-0.011039</td>\n",
       "      <td>-0.021253</td>\n",
       "      <td>0.023954</td>\n",
       "      <td>-0.016637</td>\n",
       "    </tr>\n",
       "    <tr>\n",
       "      <th>total bsmt sf</th>\n",
       "      <td>-0.011222</td>\n",
       "      <td>-0.162465</td>\n",
       "      <td>-0.205360</td>\n",
       "      <td>0.338259</td>\n",
       "      <td>0.220063</td>\n",
       "      <td>0.536911</td>\n",
       "      <td>-0.210064</td>\n",
       "      <td>0.400041</td>\n",
       "      <td>0.267377</td>\n",
       "      <td>0.362874</td>\n",
       "      <td>...</td>\n",
       "      <td>0.474421</td>\n",
       "      <td>0.242264</td>\n",
       "      <td>0.194927</td>\n",
       "      <td>-0.080200</td>\n",
       "      <td>-0.018429</td>\n",
       "      <td>0.075032</td>\n",
       "      <td>0.107849</td>\n",
       "      <td>-0.024853</td>\n",
       "      <td>0.042117</td>\n",
       "      <td>-0.021034</td>\n",
       "    </tr>\n",
       "    <tr>\n",
       "      <th>1st flr sf</th>\n",
       "      <td>0.003436</td>\n",
       "      <td>-0.140333</td>\n",
       "      <td>-0.255449</td>\n",
       "      <td>0.433886</td>\n",
       "      <td>0.260506</td>\n",
       "      <td>0.471428</td>\n",
       "      <td>-0.171535</td>\n",
       "      <td>0.276322</td>\n",
       "      <td>0.234456</td>\n",
       "      <td>0.396923</td>\n",
       "      <td>...</td>\n",
       "      <td>0.469661</td>\n",
       "      <td>0.227589</td>\n",
       "      <td>0.163558</td>\n",
       "      <td>-0.109249</td>\n",
       "      <td>-0.011791</td>\n",
       "      <td>0.125282</td>\n",
       "      <td>0.099987</td>\n",
       "      <td>-0.024754</td>\n",
       "      <td>0.066899</td>\n",
       "      <td>-0.024234</td>\n",
       "    </tr>\n",
       "    <tr>\n",
       "      <th>2nd flr sf</th>\n",
       "      <td>0.016146</td>\n",
       "      <td>-0.001699</td>\n",
       "      <td>0.301318</td>\n",
       "      <td>0.054128</td>\n",
       "      <td>0.030126</td>\n",
       "      <td>0.268290</td>\n",
       "      <td>-0.002830</td>\n",
       "      <td>0.001942</td>\n",
       "      <td>0.154414</td>\n",
       "      <td>0.156332</td>\n",
       "      <td>...</td>\n",
       "      <td>0.141056</td>\n",
       "      <td>0.038229</td>\n",
       "      <td>0.215729</td>\n",
       "      <td>0.121164</td>\n",
       "      <td>-0.029715</td>\n",
       "      <td>-0.044336</td>\n",
       "      <td>0.139447</td>\n",
       "      <td>-0.027379</td>\n",
       "      <td>-0.031569</td>\n",
       "      <td>-0.032936</td>\n",
       "    </tr>\n",
       "    <tr>\n",
       "      <th>low qual fin sf</th>\n",
       "      <td>0.019628</td>\n",
       "      <td>0.006596</td>\n",
       "      <td>0.009775</td>\n",
       "      <td>0.026434</td>\n",
       "      <td>0.001833</td>\n",
       "      <td>-0.040658</td>\n",
       "      <td>0.025977</td>\n",
       "      <td>-0.103922</td>\n",
       "      <td>-0.040537</td>\n",
       "      <td>-0.047637</td>\n",
       "      <td>...</td>\n",
       "      <td>0.007340</td>\n",
       "      <td>-0.010469</td>\n",
       "      <td>0.019290</td>\n",
       "      <td>0.095125</td>\n",
       "      <td>-0.008729</td>\n",
       "      <td>-0.023468</td>\n",
       "      <td>0.229566</td>\n",
       "      <td>-0.007394</td>\n",
       "      <td>-0.037712</td>\n",
       "      <td>-0.012271</td>\n",
       "    </tr>\n",
       "    <tr>\n",
       "      <th>gr liv area</th>\n",
       "      <td>0.017611</td>\n",
       "      <td>-0.105007</td>\n",
       "      <td>0.068955</td>\n",
       "      <td>0.373300</td>\n",
       "      <td>0.218893</td>\n",
       "      <td>0.576049</td>\n",
       "      <td>-0.127846</td>\n",
       "      <td>0.199715</td>\n",
       "      <td>0.303121</td>\n",
       "      <td>0.424503</td>\n",
       "      <td>...</td>\n",
       "      <td>0.469054</td>\n",
       "      <td>0.200639</td>\n",
       "      <td>0.306857</td>\n",
       "      <td>0.028754</td>\n",
       "      <td>-0.034701</td>\n",
       "      <td>0.053414</td>\n",
       "      <td>0.208063</td>\n",
       "      <td>-0.042224</td>\n",
       "      <td>0.020155</td>\n",
       "      <td>-0.046902</td>\n",
       "    </tr>\n",
       "    <tr>\n",
       "      <th>bsmt full bath</th>\n",
       "      <td>-0.064013</td>\n",
       "      <td>-0.055896</td>\n",
       "      <td>-0.013335</td>\n",
       "      <td>0.098985</td>\n",
       "      <td>0.143519</td>\n",
       "      <td>0.148762</td>\n",
       "      <td>-0.050505</td>\n",
       "      <td>0.203872</td>\n",
       "      <td>0.087814</td>\n",
       "      <td>0.119618</td>\n",
       "      <td>...</td>\n",
       "      <td>0.135704</td>\n",
       "      <td>0.162175</td>\n",
       "      <td>0.059573</td>\n",
       "      <td>-0.062275</td>\n",
       "      <td>0.036649</td>\n",
       "      <td>0.045364</td>\n",
       "      <td>0.045123</td>\n",
       "      <td>-0.007926</td>\n",
       "      <td>0.009563</td>\n",
       "      <td>0.066863</td>\n",
       "    </tr>\n",
       "    <tr>\n",
       "      <th>bsmt half bath</th>\n",
       "      <td>0.051464</td>\n",
       "      <td>0.021051</td>\n",
       "      <td>0.033480</td>\n",
       "      <td>-0.005734</td>\n",
       "      <td>0.025423</td>\n",
       "      <td>-0.027035</td>\n",
       "      <td>0.045133</td>\n",
       "      <td>-0.029253</td>\n",
       "      <td>-0.067845</td>\n",
       "      <td>0.030030</td>\n",
       "      <td>...</td>\n",
       "      <td>-0.011872</td>\n",
       "      <td>0.105118</td>\n",
       "      <td>-0.040445</td>\n",
       "      <td>-0.003469</td>\n",
       "      <td>0.017640</td>\n",
       "      <td>0.054635</td>\n",
       "      <td>0.069636</td>\n",
       "      <td>0.001566</td>\n",
       "      <td>0.013275</td>\n",
       "      <td>-0.042850</td>\n",
       "    </tr>\n",
       "    <tr>\n",
       "      <th>full bath</th>\n",
       "      <td>-0.017217</td>\n",
       "      <td>-0.156601</td>\n",
       "      <td>0.119307</td>\n",
       "      <td>0.251692</td>\n",
       "      <td>0.129551</td>\n",
       "      <td>0.535192</td>\n",
       "      <td>-0.202914</td>\n",
       "      <td>0.442716</td>\n",
       "      <td>0.423847</td>\n",
       "      <td>0.297368</td>\n",
       "      <td>...</td>\n",
       "      <td>0.425774</td>\n",
       "      <td>0.188049</td>\n",
       "      <td>0.280403</td>\n",
       "      <td>-0.103575</td>\n",
       "      <td>-0.013026</td>\n",
       "      <td>-0.017953</td>\n",
       "      <td>0.079938</td>\n",
       "      <td>-0.041100</td>\n",
       "      <td>0.033887</td>\n",
       "      <td>-0.028264</td>\n",
       "    </tr>\n",
       "    <tr>\n",
       "      <th>half bath</th>\n",
       "      <td>-0.034426</td>\n",
       "      <td>-0.175203</td>\n",
       "      <td>0.166807</td>\n",
       "      <td>0.050988</td>\n",
       "      <td>0.009662</td>\n",
       "      <td>0.254276</td>\n",
       "      <td>-0.076106</td>\n",
       "      <td>0.237999</td>\n",
       "      <td>0.181035</td>\n",
       "      <td>0.189233</td>\n",
       "      <td>...</td>\n",
       "      <td>0.179090</td>\n",
       "      <td>0.089873</td>\n",
       "      <td>0.175107</td>\n",
       "      <td>-0.046329</td>\n",
       "      <td>-0.014020</td>\n",
       "      <td>0.010945</td>\n",
       "      <td>0.002958</td>\n",
       "      <td>-0.043237</td>\n",
       "      <td>-0.031520</td>\n",
       "      <td>-0.000015</td>\n",
       "    </tr>\n",
       "    <tr>\n",
       "      <th>bedroom abvgr</th>\n",
       "      <td>0.027434</td>\n",
       "      <td>-0.000735</td>\n",
       "      <td>-0.057150</td>\n",
       "      <td>0.287778</td>\n",
       "      <td>0.138673</td>\n",
       "      <td>0.088541</td>\n",
       "      <td>0.002435</td>\n",
       "      <td>-0.084122</td>\n",
       "      <td>-0.026424</td>\n",
       "      <td>0.135538</td>\n",
       "      <td>...</td>\n",
       "      <td>0.082579</td>\n",
       "      <td>0.017247</td>\n",
       "      <td>0.153013</td>\n",
       "      <td>0.088539</td>\n",
       "      <td>-0.078556</td>\n",
       "      <td>-0.015771</td>\n",
       "      <td>0.065280</td>\n",
       "      <td>-0.026529</td>\n",
       "      <td>0.018435</td>\n",
       "      <td>-0.033566</td>\n",
       "    </tr>\n",
       "    <tr>\n",
       "      <th>kitchen abvgr</th>\n",
       "      <td>-0.050200</td>\n",
       "      <td>0.094267</td>\n",
       "      <td>0.270343</td>\n",
       "      <td>-0.017125</td>\n",
       "      <td>-0.030849</td>\n",
       "      <td>-0.134264</td>\n",
       "      <td>-0.066631</td>\n",
       "      <td>-0.160572</td>\n",
       "      <td>-0.157474</td>\n",
       "      <td>-0.011266</td>\n",
       "      <td>...</td>\n",
       "      <td>-0.033462</td>\n",
       "      <td>-0.081634</td>\n",
       "      <td>-0.035466</td>\n",
       "      <td>0.048672</td>\n",
       "      <td>-0.022254</td>\n",
       "      <td>-0.050320</td>\n",
       "      <td>-0.013473</td>\n",
       "      <td>0.010874</td>\n",
       "      <td>0.008641</td>\n",
       "      <td>0.066403</td>\n",
       "    </tr>\n",
       "    <tr>\n",
       "      <th>totrms abvgrd</th>\n",
       "      <td>0.026685</td>\n",
       "      <td>-0.036274</td>\n",
       "      <td>0.025630</td>\n",
       "      <td>0.324443</td>\n",
       "      <td>0.183920</td>\n",
       "      <td>0.372976</td>\n",
       "      <td>-0.080252</td>\n",
       "      <td>0.050460</td>\n",
       "      <td>0.183518</td>\n",
       "      <td>0.284551</td>\n",
       "      <td>...</td>\n",
       "      <td>0.291424</td>\n",
       "      <td>0.084818</td>\n",
       "      <td>0.244326</td>\n",
       "      <td>0.040170</td>\n",
       "      <td>-0.064130</td>\n",
       "      <td>0.004133</td>\n",
       "      <td>0.073522</td>\n",
       "      <td>-0.031075</td>\n",
       "      <td>0.014894</td>\n",
       "      <td>-0.048120</td>\n",
       "    </tr>\n",
       "    <tr>\n",
       "      <th>fireplaces</th>\n",
       "      <td>0.021915</td>\n",
       "      <td>-0.081229</td>\n",
       "      <td>-0.039311</td>\n",
       "      <td>0.264322</td>\n",
       "      <td>0.216608</td>\n",
       "      <td>0.405243</td>\n",
       "      <td>-0.086543</td>\n",
       "      <td>0.175520</td>\n",
       "      <td>0.119996</td>\n",
       "      <td>0.277037</td>\n",
       "      <td>...</td>\n",
       "      <td>0.299209</td>\n",
       "      <td>0.203138</td>\n",
       "      <td>0.138089</td>\n",
       "      <td>-0.018140</td>\n",
       "      <td>0.000499</td>\n",
       "      <td>0.172537</td>\n",
       "      <td>0.075734</td>\n",
       "      <td>-0.026821</td>\n",
       "      <td>0.063746</td>\n",
       "      <td>-0.040240</td>\n",
       "    </tr>\n",
       "    <tr>\n",
       "      <th>garage yr blt</th>\n",
       "      <td>-0.054588</td>\n",
       "      <td>-0.271484</td>\n",
       "      <td>0.099684</td>\n",
       "      <td>0.094068</td>\n",
       "      <td>-0.033642</td>\n",
       "      <td>0.559807</td>\n",
       "      <td>-0.313206</td>\n",
       "      <td>0.855751</td>\n",
       "      <td>0.601848</td>\n",
       "      <td>0.229213</td>\n",
       "      <td>...</td>\n",
       "      <td>0.560538</td>\n",
       "      <td>0.222434</td>\n",
       "      <td>0.240858</td>\n",
       "      <td>-0.312577</td>\n",
       "      <td>0.010850</td>\n",
       "      <td>-0.084843</td>\n",
       "      <td>-0.018911</td>\n",
       "      <td>-0.043832</td>\n",
       "      <td>0.049413</td>\n",
       "      <td>-0.002695</td>\n",
       "    </tr>\n",
       "    <tr>\n",
       "      <th>garage cars</th>\n",
       "      <td>-0.009492</td>\n",
       "      <td>-0.261336</td>\n",
       "      <td>-0.037282</td>\n",
       "      <td>0.333066</td>\n",
       "      <td>0.128794</td>\n",
       "      <td>0.627462</td>\n",
       "      <td>-0.211422</td>\n",
       "      <td>0.523973</td>\n",
       "      <td>0.384774</td>\n",
       "      <td>0.356735</td>\n",
       "      <td>...</td>\n",
       "      <td>0.881078</td>\n",
       "      <td>0.241462</td>\n",
       "      <td>0.171898</td>\n",
       "      <td>-0.120907</td>\n",
       "      <td>0.011452</td>\n",
       "      <td>0.015500</td>\n",
       "      <td>0.057142</td>\n",
       "      <td>-0.066627</td>\n",
       "      <td>0.118929</td>\n",
       "      <td>-0.049645</td>\n",
       "    </tr>\n",
       "    <tr>\n",
       "      <th>garage area</th>\n",
       "      <td>-0.014802</td>\n",
       "      <td>-0.236341</td>\n",
       "      <td>-0.091309</td>\n",
       "      <td>0.354358</td>\n",
       "      <td>0.138601</td>\n",
       "      <td>0.560325</td>\n",
       "      <td>-0.189795</td>\n",
       "      <td>0.462318</td>\n",
       "      <td>0.320132</td>\n",
       "      <td>0.345854</td>\n",
       "      <td>...</td>\n",
       "      <td>1.000000</td>\n",
       "      <td>0.219118</td>\n",
       "      <td>0.192384</td>\n",
       "      <td>-0.095504</td>\n",
       "      <td>-0.004913</td>\n",
       "      <td>0.040857</td>\n",
       "      <td>0.075622</td>\n",
       "      <td>-0.053608</td>\n",
       "      <td>0.109312</td>\n",
       "      <td>-0.033437</td>\n",
       "    </tr>\n",
       "    <tr>\n",
       "      <th>wood deck sf</th>\n",
       "      <td>-0.017837</td>\n",
       "      <td>-0.076886</td>\n",
       "      <td>-0.064931</td>\n",
       "      <td>0.130516</td>\n",
       "      <td>0.168038</td>\n",
       "      <td>0.250373</td>\n",
       "      <td>0.043534</td>\n",
       "      <td>0.259481</td>\n",
       "      <td>0.221042</td>\n",
       "      <td>0.168519</td>\n",
       "      <td>...</td>\n",
       "      <td>0.219118</td>\n",
       "      <td>1.000000</td>\n",
       "      <td>0.013976</td>\n",
       "      <td>-0.131800</td>\n",
       "      <td>0.013393</td>\n",
       "      <td>-0.010180</td>\n",
       "      <td>-0.011809</td>\n",
       "      <td>-0.016120</td>\n",
       "      <td>0.011521</td>\n",
       "      <td>0.006008</td>\n",
       "    </tr>\n",
       "    <tr>\n",
       "      <th>open porch sf</th>\n",
       "      <td>0.045393</td>\n",
       "      <td>-0.056141</td>\n",
       "      <td>-0.002610</td>\n",
       "      <td>0.098338</td>\n",
       "      <td>0.035088</td>\n",
       "      <td>0.263036</td>\n",
       "      <td>-0.104338</td>\n",
       "      <td>0.173134</td>\n",
       "      <td>0.185684</td>\n",
       "      <td>0.084379</td>\n",
       "      <td>...</td>\n",
       "      <td>0.192384</td>\n",
       "      <td>0.013976</td>\n",
       "      <td>1.000000</td>\n",
       "      <td>-0.027326</td>\n",
       "      <td>-0.013898</td>\n",
       "      <td>0.021760</td>\n",
       "      <td>0.038863</td>\n",
       "      <td>0.001254</td>\n",
       "      <td>0.001939</td>\n",
       "      <td>-0.060494</td>\n",
       "    </tr>\n",
       "    <tr>\n",
       "      <th>enclosed porch</th>\n",
       "      <td>0.018011</td>\n",
       "      <td>0.188510</td>\n",
       "      <td>0.009240</td>\n",
       "      <td>0.044520</td>\n",
       "      <td>0.032907</td>\n",
       "      <td>-0.113804</td>\n",
       "      <td>0.003140</td>\n",
       "      <td>-0.367720</td>\n",
       "      <td>-0.190541</td>\n",
       "      <td>-0.117954</td>\n",
       "      <td>...</td>\n",
       "      <td>-0.095504</td>\n",
       "      <td>-0.131800</td>\n",
       "      <td>-0.027326</td>\n",
       "      <td>1.000000</td>\n",
       "      <td>-0.034231</td>\n",
       "      <td>-0.054858</td>\n",
       "      <td>0.360136</td>\n",
       "      <td>-0.003498</td>\n",
       "      <td>-0.072290</td>\n",
       "      <td>0.009589</td>\n",
       "    </tr>\n",
       "    <tr>\n",
       "      <th>3ssn porch</th>\n",
       "      <td>-0.030013</td>\n",
       "      <td>-0.025302</td>\n",
       "      <td>-0.056814</td>\n",
       "      <td>0.021197</td>\n",
       "      <td>0.012255</td>\n",
       "      <td>-0.015024</td>\n",
       "      <td>0.082982</td>\n",
       "      <td>0.015266</td>\n",
       "      <td>0.030282</td>\n",
       "      <td>0.020114</td>\n",
       "      <td>...</td>\n",
       "      <td>-0.004913</td>\n",
       "      <td>0.013393</td>\n",
       "      <td>-0.013898</td>\n",
       "      <td>-0.034231</td>\n",
       "      <td>1.000000</td>\n",
       "      <td>-0.029153</td>\n",
       "      <td>-0.006565</td>\n",
       "      <td>0.009413</td>\n",
       "      <td>0.045092</td>\n",
       "      <td>0.030186</td>\n",
       "    </tr>\n",
       "    <tr>\n",
       "      <th>screen porch</th>\n",
       "      <td>-0.009833</td>\n",
       "      <td>0.016030</td>\n",
       "      <td>-0.080303</td>\n",
       "      <td>0.083014</td>\n",
       "      <td>0.039328</td>\n",
       "      <td>0.023043</td>\n",
       "      <td>0.035966</td>\n",
       "      <td>-0.051077</td>\n",
       "      <td>-0.061119</td>\n",
       "      <td>0.019435</td>\n",
       "      <td>...</td>\n",
       "      <td>0.040857</td>\n",
       "      <td>-0.010180</td>\n",
       "      <td>0.021760</td>\n",
       "      <td>-0.054858</td>\n",
       "      <td>-0.029153</td>\n",
       "      <td>1.000000</td>\n",
       "      <td>0.004717</td>\n",
       "      <td>0.007120</td>\n",
       "      <td>0.025532</td>\n",
       "      <td>0.023265</td>\n",
       "    </tr>\n",
       "    <tr>\n",
       "      <th>pool area</th>\n",
       "      <td>0.044071</td>\n",
       "      <td>-0.028212</td>\n",
       "      <td>0.000311</td>\n",
       "      <td>0.222612</td>\n",
       "      <td>0.065079</td>\n",
       "      <td>0.104038</td>\n",
       "      <td>-0.048916</td>\n",
       "      <td>-0.002558</td>\n",
       "      <td>0.021947</td>\n",
       "      <td>-0.015873</td>\n",
       "      <td>...</td>\n",
       "      <td>0.075622</td>\n",
       "      <td>-0.011809</td>\n",
       "      <td>0.038863</td>\n",
       "      <td>0.360136</td>\n",
       "      <td>-0.006565</td>\n",
       "      <td>0.004717</td>\n",
       "      <td>1.000000</td>\n",
       "      <td>-0.005561</td>\n",
       "      <td>-0.040105</td>\n",
       "      <td>-0.049789</td>\n",
       "    </tr>\n",
       "    <tr>\n",
       "      <th>misc val</th>\n",
       "      <td>0.009808</td>\n",
       "      <td>-0.038484</td>\n",
       "      <td>-0.033519</td>\n",
       "      <td>0.022370</td>\n",
       "      <td>0.033565</td>\n",
       "      <td>-0.037613</td>\n",
       "      <td>0.081235</td>\n",
       "      <td>-0.039216</td>\n",
       "      <td>-0.006549</td>\n",
       "      <td>-0.031671</td>\n",
       "      <td>...</td>\n",
       "      <td>-0.053608</td>\n",
       "      <td>-0.016120</td>\n",
       "      <td>0.001254</td>\n",
       "      <td>-0.003498</td>\n",
       "      <td>0.009413</td>\n",
       "      <td>0.007120</td>\n",
       "      <td>-0.005561</td>\n",
       "      <td>1.000000</td>\n",
       "      <td>-0.023281</td>\n",
       "      <td>-0.012255</td>\n",
       "    </tr>\n",
       "    <tr>\n",
       "      <th>mo sold</th>\n",
       "      <td>0.145787</td>\n",
       "      <td>-0.095156</td>\n",
       "      <td>-0.030822</td>\n",
       "      <td>0.075921</td>\n",
       "      <td>0.000416</td>\n",
       "      <td>0.056443</td>\n",
       "      <td>-0.016344</td>\n",
       "      <td>0.064740</td>\n",
       "      <td>0.032422</td>\n",
       "      <td>-0.003284</td>\n",
       "      <td>...</td>\n",
       "      <td>0.109312</td>\n",
       "      <td>0.011521</td>\n",
       "      <td>0.001939</td>\n",
       "      <td>-0.072290</td>\n",
       "      <td>0.045092</td>\n",
       "      <td>0.025532</td>\n",
       "      <td>-0.040105</td>\n",
       "      <td>-0.023281</td>\n",
       "      <td>1.000000</td>\n",
       "      <td>-0.174174</td>\n",
       "    </tr>\n",
       "    <tr>\n",
       "      <th>yr sold</th>\n",
       "      <td>-0.976564</td>\n",
       "      <td>0.012456</td>\n",
       "      <td>0.016369</td>\n",
       "      <td>-0.044872</td>\n",
       "      <td>-0.012974</td>\n",
       "      <td>-0.039724</td>\n",
       "      <td>-0.006384</td>\n",
       "      <td>-0.033469</td>\n",
       "      <td>0.009236</td>\n",
       "      <td>-0.014172</td>\n",
       "      <td>...</td>\n",
       "      <td>-0.033437</td>\n",
       "      <td>0.006008</td>\n",
       "      <td>-0.060494</td>\n",
       "      <td>0.009589</td>\n",
       "      <td>0.030186</td>\n",
       "      <td>0.023265</td>\n",
       "      <td>-0.049789</td>\n",
       "      <td>-0.012255</td>\n",
       "      <td>-0.174174</td>\n",
       "      <td>1.000000</td>\n",
       "    </tr>\n",
       "  </tbody>\n",
       "</table>\n",
       "<p>38 rows × 38 columns</p>\n",
       "</div>"
      ],
      "text/plain": [
       "                       id       pid  ms subclass  lot frontage  lot area  \\\n",
       "id               1.000000  0.168120    -0.022195      0.032199  0.028352   \n",
       "pid              0.168120  1.000000     0.003912     -0.114767  0.049926   \n",
       "ms subclass     -0.022195  0.003912     1.000000     -0.495304 -0.152010   \n",
       "lot frontage     0.032199 -0.114767    -0.495304      1.000000  0.421187   \n",
       "lot area         0.028352  0.049926    -0.152010      0.421187  1.000000   \n",
       "overall qual    -0.021307 -0.261138     0.049421      0.246809  0.080864   \n",
       "overall cond     0.023618  0.099593    -0.060973     -0.120607 -0.058826   \n",
       "year built      -0.026613 -0.336595     0.038803      0.147245  0.001246   \n",
       "year remod/add  -0.042050 -0.111894     0.039624      0.104091 -0.028250   \n",
       "mas vnr area    -0.023947 -0.195461     0.016745      0.221572  0.057634   \n",
       "bsmtfin sf 1    -0.003672 -0.133389    -0.059001      0.207779  0.152526   \n",
       "bsmtfin sf 2    -0.009195  0.024698    -0.077742      0.068427  0.146833   \n",
       "bsmt unf sf     -0.003255 -0.030732    -0.105940      0.089217 -0.004976   \n",
       "total bsmt sf   -0.011222 -0.162465    -0.205360      0.338259  0.220063   \n",
       "1st flr sf       0.003436 -0.140333    -0.255449      0.433886  0.260506   \n",
       "2nd flr sf       0.016146 -0.001699     0.301318      0.054128  0.030126   \n",
       "low qual fin sf  0.019628  0.006596     0.009775      0.026434  0.001833   \n",
       "gr liv area      0.017611 -0.105007     0.068955      0.373300  0.218893   \n",
       "bsmt full bath  -0.064013 -0.055896    -0.013335      0.098985  0.143519   \n",
       "bsmt half bath   0.051464  0.021051     0.033480     -0.005734  0.025423   \n",
       "full bath       -0.017217 -0.156601     0.119307      0.251692  0.129551   \n",
       "half bath       -0.034426 -0.175203     0.166807      0.050988  0.009662   \n",
       "bedroom abvgr    0.027434 -0.000735    -0.057150      0.287778  0.138673   \n",
       "kitchen abvgr   -0.050200  0.094267     0.270343     -0.017125 -0.030849   \n",
       "totrms abvgrd    0.026685 -0.036274     0.025630      0.324443  0.183920   \n",
       "fireplaces       0.021915 -0.081229    -0.039311      0.264322  0.216608   \n",
       "garage yr blt   -0.054588 -0.271484     0.099684      0.094068 -0.033642   \n",
       "garage cars     -0.009492 -0.261336    -0.037282      0.333066  0.128794   \n",
       "garage area     -0.014802 -0.236341    -0.091309      0.354358  0.138601   \n",
       "wood deck sf    -0.017837 -0.076886    -0.064931      0.130516  0.168038   \n",
       "open porch sf    0.045393 -0.056141    -0.002610      0.098338  0.035088   \n",
       "enclosed porch   0.018011  0.188510     0.009240      0.044520  0.032907   \n",
       "3ssn porch      -0.030013 -0.025302    -0.056814      0.021197  0.012255   \n",
       "screen porch    -0.009833  0.016030    -0.080303      0.083014  0.039328   \n",
       "pool area        0.044071 -0.028212     0.000311      0.222612  0.065079   \n",
       "misc val         0.009808 -0.038484    -0.033519      0.022370  0.033565   \n",
       "mo sold          0.145787 -0.095156    -0.030822      0.075921  0.000416   \n",
       "yr sold         -0.976564  0.012456     0.016369     -0.044872 -0.012974   \n",
       "\n",
       "                 overall qual  overall cond  year built  year remod/add  \\\n",
       "id                  -0.021307      0.023618   -0.026613       -0.042050   \n",
       "pid                 -0.261138      0.099593   -0.336595       -0.111894   \n",
       "ms subclass          0.049421     -0.060973    0.038803        0.039624   \n",
       "lot frontage         0.246809     -0.120607    0.147245        0.104091   \n",
       "lot area             0.080864     -0.058826    0.001246       -0.028250   \n",
       "overall qual         1.000000     -0.122401    0.582000        0.532024   \n",
       "overall cond        -0.122401      1.000000   -0.363553        0.060317   \n",
       "year built           0.582000     -0.363553    1.000000        0.571823   \n",
       "year remod/add       0.532024      0.060317    0.571823        1.000000   \n",
       "mas vnr area         0.405164     -0.133305    0.277126        0.161782   \n",
       "bsmtfin sf 1         0.288637     -0.061570    0.288428        0.110309   \n",
       "bsmtfin sf 2        -0.069156      0.026855   -0.039877       -0.073342   \n",
       "bsmt unf sf          0.252908     -0.151703    0.108067        0.176645   \n",
       "total bsmt sf        0.536911     -0.210064    0.400041        0.267377   \n",
       "1st flr sf           0.471428     -0.171535    0.276322        0.234456   \n",
       "2nd flr sf           0.268290     -0.002830    0.001942        0.154414   \n",
       "low qual fin sf     -0.040658      0.025977   -0.103922       -0.040537   \n",
       "gr liv area          0.576049     -0.127846    0.199715        0.303121   \n",
       "bsmt full bath       0.148762     -0.050505    0.203872        0.087814   \n",
       "bsmt half bath      -0.027035      0.045133   -0.029253       -0.067845   \n",
       "full bath            0.535192     -0.202914    0.442716        0.423847   \n",
       "half bath            0.254276     -0.076106    0.237999        0.181035   \n",
       "bedroom abvgr        0.088541      0.002435   -0.084122       -0.026424   \n",
       "kitchen abvgr       -0.134264     -0.066631   -0.160572       -0.157474   \n",
       "totrms abvgrd        0.372976     -0.080252    0.050460        0.183518   \n",
       "fireplaces           0.405243     -0.086543    0.175520        0.119996   \n",
       "garage yr blt        0.559807     -0.313206    0.855751        0.601848   \n",
       "garage cars          0.627462     -0.211422    0.523973        0.384774   \n",
       "garage area          0.560325     -0.189795    0.462318        0.320132   \n",
       "wood deck sf         0.250373      0.043534    0.259481        0.221042   \n",
       "open porch sf        0.263036     -0.104338    0.173134        0.185684   \n",
       "enclosed porch      -0.113804      0.003140   -0.367720       -0.190541   \n",
       "3ssn porch          -0.015024      0.082982    0.015266        0.030282   \n",
       "screen porch         0.023043      0.035966   -0.051077       -0.061119   \n",
       "pool area            0.104038     -0.048916   -0.002558        0.021947   \n",
       "misc val            -0.037613      0.081235   -0.039216       -0.006549   \n",
       "mo sold              0.056443     -0.016344    0.064740        0.032422   \n",
       "yr sold             -0.039724     -0.006384   -0.033469        0.009236   \n",
       "\n",
       "                 mas vnr area  ...  garage area  wood deck sf  open porch sf  \\\n",
       "id                  -0.023947  ...    -0.014802     -0.017837       0.045393   \n",
       "pid                 -0.195461  ...    -0.236341     -0.076886      -0.056141   \n",
       "ms subclass          0.016745  ...    -0.091309     -0.064931      -0.002610   \n",
       "lot frontage         0.221572  ...     0.354358      0.130516       0.098338   \n",
       "lot area             0.057634  ...     0.138601      0.168038       0.035088   \n",
       "overall qual         0.405164  ...     0.560325      0.250373       0.263036   \n",
       "overall cond        -0.133305  ...    -0.189795      0.043534      -0.104338   \n",
       "year built           0.277126  ...     0.462318      0.259481       0.173134   \n",
       "year remod/add       0.161782  ...     0.320132      0.221042       0.185684   \n",
       "mas vnr area         1.000000  ...     0.345854      0.168519       0.084379   \n",
       "bsmtfin sf 1         0.246482  ...     0.250314      0.247257       0.066637   \n",
       "bsmtfin sf 2        -0.014303  ...    -0.017301      0.082930      -0.006384   \n",
       "bsmt unf sf          0.104578  ...     0.209977     -0.054115       0.123225   \n",
       "total bsmt sf        0.362874  ...     0.474421      0.242264       0.194927   \n",
       "1st flr sf           0.396923  ...     0.469661      0.227589       0.163558   \n",
       "2nd flr sf           0.156332  ...     0.141056      0.038229       0.215729   \n",
       "low qual fin sf     -0.047637  ...     0.007340     -0.010469       0.019290   \n",
       "gr liv area          0.424503  ...     0.469054      0.200639       0.306857   \n",
       "bsmt full bath       0.119618  ...     0.135704      0.162175       0.059573   \n",
       "bsmt half bath       0.030030  ...    -0.011872      0.105118      -0.040445   \n",
       "full bath            0.297368  ...     0.425774      0.188049       0.280403   \n",
       "half bath            0.189233  ...     0.179090      0.089873       0.175107   \n",
       "bedroom abvgr        0.135538  ...     0.082579      0.017247       0.153013   \n",
       "kitchen abvgr       -0.011266  ...    -0.033462     -0.081634      -0.035466   \n",
       "totrms abvgrd        0.284551  ...     0.291424      0.084818       0.244326   \n",
       "fireplaces           0.277037  ...     0.299209      0.203138       0.138089   \n",
       "garage yr blt        0.229213  ...     0.560538      0.222434       0.240858   \n",
       "garage cars          0.356735  ...     0.881078      0.241462       0.171898   \n",
       "garage area          0.345854  ...     1.000000      0.219118       0.192384   \n",
       "wood deck sf         0.168519  ...     0.219118      1.000000       0.013976   \n",
       "open porch sf        0.084379  ...     0.192384      0.013976       1.000000   \n",
       "enclosed porch      -0.117954  ...    -0.095504     -0.131800      -0.027326   \n",
       "3ssn porch           0.020114  ...    -0.004913      0.013393      -0.013898   \n",
       "screen porch         0.019435  ...     0.040857     -0.010180       0.021760   \n",
       "pool area           -0.015873  ...     0.075622     -0.011809       0.038863   \n",
       "misc val            -0.031671  ...    -0.053608     -0.016120       0.001254   \n",
       "mo sold             -0.003284  ...     0.109312      0.011521       0.001939   \n",
       "yr sold             -0.014172  ...    -0.033437      0.006008      -0.060494   \n",
       "\n",
       "                 enclosed porch  3ssn porch  screen porch  pool area  \\\n",
       "id                     0.018011   -0.030013     -0.009833   0.044071   \n",
       "pid                    0.188510   -0.025302      0.016030  -0.028212   \n",
       "ms subclass            0.009240   -0.056814     -0.080303   0.000311   \n",
       "lot frontage           0.044520    0.021197      0.083014   0.222612   \n",
       "lot area               0.032907    0.012255      0.039328   0.065079   \n",
       "overall qual          -0.113804   -0.015024      0.023043   0.104038   \n",
       "overall cond           0.003140    0.082982      0.035966  -0.048916   \n",
       "year built            -0.367720    0.015266     -0.051077  -0.002558   \n",
       "year remod/add        -0.190541    0.030282     -0.061119   0.021947   \n",
       "mas vnr area          -0.117954    0.020114      0.019435  -0.015873   \n",
       "bsmtfin sf 1          -0.149114    0.058552      0.105325   0.111991   \n",
       "bsmtfin sf 2           0.081079   -0.021476     -0.013961   0.001069   \n",
       "bsmt unf sf            0.041623   -0.069117     -0.029719  -0.011039   \n",
       "total bsmt sf         -0.080200   -0.018429      0.075032   0.107849   \n",
       "1st flr sf            -0.109249   -0.011791      0.125282   0.099987   \n",
       "2nd flr sf             0.121164   -0.029715     -0.044336   0.139447   \n",
       "low qual fin sf        0.095125   -0.008729     -0.023468   0.229566   \n",
       "gr liv area            0.028754   -0.034701      0.053414   0.208063   \n",
       "bsmt full bath        -0.062275    0.036649      0.045364   0.045123   \n",
       "bsmt half bath        -0.003469    0.017640      0.054635   0.069636   \n",
       "full bath             -0.103575   -0.013026     -0.017953   0.079938   \n",
       "half bath             -0.046329   -0.014020      0.010945   0.002958   \n",
       "bedroom abvgr          0.088539   -0.078556     -0.015771   0.065280   \n",
       "kitchen abvgr          0.048672   -0.022254     -0.050320  -0.013473   \n",
       "totrms abvgrd          0.040170   -0.064130      0.004133   0.073522   \n",
       "fireplaces            -0.018140    0.000499      0.172537   0.075734   \n",
       "garage yr blt         -0.312577    0.010850     -0.084843  -0.018911   \n",
       "garage cars           -0.120907    0.011452      0.015500   0.057142   \n",
       "garage area           -0.095504   -0.004913      0.040857   0.075622   \n",
       "wood deck sf          -0.131800    0.013393     -0.010180  -0.011809   \n",
       "open porch sf         -0.027326   -0.013898      0.021760   0.038863   \n",
       "enclosed porch         1.000000   -0.034231     -0.054858   0.360136   \n",
       "3ssn porch            -0.034231    1.000000     -0.029153  -0.006565   \n",
       "screen porch          -0.054858   -0.029153      1.000000   0.004717   \n",
       "pool area              0.360136   -0.006565      0.004717   1.000000   \n",
       "misc val              -0.003498    0.009413      0.007120  -0.005561   \n",
       "mo sold               -0.072290    0.045092      0.025532  -0.040105   \n",
       "yr sold                0.009589    0.030186      0.023265  -0.049789   \n",
       "\n",
       "                 misc val   mo sold   yr sold  \n",
       "id               0.009808  0.145787 -0.976564  \n",
       "pid             -0.038484 -0.095156  0.012456  \n",
       "ms subclass     -0.033519 -0.030822  0.016369  \n",
       "lot frontage     0.022370  0.075921 -0.044872  \n",
       "lot area         0.033565  0.000416 -0.012974  \n",
       "overall qual    -0.037613  0.056443 -0.039724  \n",
       "overall cond     0.081235 -0.016344 -0.006384  \n",
       "year built      -0.039216  0.064740 -0.033469  \n",
       "year remod/add  -0.006549  0.032422  0.009236  \n",
       "mas vnr area    -0.031671 -0.003284 -0.014172  \n",
       "bsmtfin sf 1    -0.000972  0.015995 -0.012317  \n",
       "bsmtfin sf 2    -0.004432  0.001071  0.021239  \n",
       "bsmt unf sf     -0.021253  0.023954 -0.016637  \n",
       "total bsmt sf   -0.024853  0.042117 -0.021034  \n",
       "1st flr sf      -0.024754  0.066899 -0.024234  \n",
       "2nd flr sf      -0.027379 -0.031569 -0.032936  \n",
       "low qual fin sf -0.007394 -0.037712 -0.012271  \n",
       "gr liv area     -0.042224  0.020155 -0.046902  \n",
       "bsmt full bath  -0.007926  0.009563  0.066863  \n",
       "bsmt half bath   0.001566  0.013275 -0.042850  \n",
       "full bath       -0.041100  0.033887 -0.028264  \n",
       "half bath       -0.043237 -0.031520 -0.000015  \n",
       "bedroom abvgr   -0.026529  0.018435 -0.033566  \n",
       "kitchen abvgr    0.010874  0.008641  0.066403  \n",
       "totrms abvgrd   -0.031075  0.014894 -0.048120  \n",
       "fireplaces      -0.026821  0.063746 -0.040240  \n",
       "garage yr blt   -0.043832  0.049413 -0.002695  \n",
       "garage cars     -0.066627  0.118929 -0.049645  \n",
       "garage area     -0.053608  0.109312 -0.033437  \n",
       "wood deck sf    -0.016120  0.011521  0.006008  \n",
       "open porch sf    0.001254  0.001939 -0.060494  \n",
       "enclosed porch  -0.003498 -0.072290  0.009589  \n",
       "3ssn porch       0.009413  0.045092  0.030186  \n",
       "screen porch     0.007120  0.025532  0.023265  \n",
       "pool area       -0.005561 -0.040105 -0.049789  \n",
       "misc val         1.000000 -0.023281 -0.012255  \n",
       "mo sold         -0.023281  1.000000 -0.174174  \n",
       "yr sold         -0.012255 -0.174174  1.000000  \n",
       "\n",
       "[38 rows x 38 columns]"
      ]
     },
     "execution_count": 14,
     "metadata": {},
     "output_type": "execute_result"
    }
   ],
   "source": [
    "testdf.corr()"
   ]
  },
  {
   "cell_type": "markdown",
   "metadata": {},
   "source": [
    "# Exploratory Data Analysis\n",
    "#### Methodology: \n",
    "- Now that columns are selected for each category, we will visit each individually and begin cleaning.\n",
    "##### Cleaning\n",
    " - Check and resolve within `train`:\n",
    "  - Nulls/`NaNs`\n",
    "  - Dropped/Extra Categories\n",
    "  - Impute/Delete Rows as Necessary\n",
    " - Update `test` version to include same columns for predictions\n",
    "##### Fitting\n",
    " - We run train_test_split\n",
    " - Instantiate our Model\n",
    " - Fit it to our split\n",
    " - Assess our scores\n",
    "##### Scoring\n",
    " - `Cross_val`\n",
    " - `R2`\n",
    " - `R2_Adjusted`\n",
    " - `RMSE`"
   ]
  },
  {
   "cell_type": "markdown",
   "metadata": {},
   "source": [
    "## Categorical\n",
    "* [Score Summary](#Categorical-Score-Summary)"
   ]
  },
  {
   "cell_type": "markdown",
   "metadata": {},
   "source": [
    "#####  Data Clean: Cleaning Categorical columns for test and train sets, ensuring they match"
   ]
  },
  {
   "cell_type": "code",
   "execution_count": 15,
   "metadata": {},
   "outputs": [],
   "source": [
    "# run value counts on each category, \n",
    "# for brevity's sake I'll run code for the columns with issues"
   ]
  },
  {
   "cell_type": "code",
   "execution_count": 16,
   "metadata": {},
   "outputs": [],
   "source": [
    "#### Feature Cleaning Steps - Alley"
   ]
  },
  {
   "cell_type": "code",
   "execution_count": 17,
   "metadata": {},
   "outputs": [
    {
     "name": "stdout",
     "output_type": "stream",
     "text": [
      "Grvl    85\n",
      "Pave    55\n",
      "Name: alley, dtype: int64\n",
      "Grvl    35\n",
      "Pave    23\n",
      "Name: alley, dtype: int64\n"
     ]
    }
   ],
   "source": [
    "print(train['alley'].value_counts())\n",
    "print(testdf['alley'].value_counts())"
   ]
  },
  {
   "cell_type": "code",
   "execution_count": 18,
   "metadata": {},
   "outputs": [
    {
     "data": {
      "text/plain": [
       "13      Pave\n",
       "1151    Pave\n",
       "963     Pave\n",
       "987     Pave\n",
       "1038    Pave\n",
       "        ... \n",
       "2046     NaN\n",
       "2047     NaN\n",
       "2048     NaN\n",
       "2049     NaN\n",
       "2050     NaN\n",
       "Name: alley, Length: 2051, dtype: object"
      ]
     },
     "execution_count": 18,
     "metadata": {},
     "output_type": "execute_result"
    }
   ],
   "source": [
    "train['alley'].sort_values(ascending = False) #nans confirmed"
   ]
  },
  {
   "cell_type": "code",
   "execution_count": 19,
   "metadata": {},
   "outputs": [
    {
     "data": {
      "text/plain": [
       "824    Pave\n",
       "567    Pave\n",
       "517    Pave\n",
       "488    Pave\n",
       "475    Pave\n",
       "       ... \n",
       "873     NaN\n",
       "874     NaN\n",
       "875     NaN\n",
       "876     NaN\n",
       "877     NaN\n",
       "Name: alley, Length: 878, dtype: object"
      ]
     },
     "execution_count": 19,
     "metadata": {},
     "output_type": "execute_result"
    }
   ],
   "source": [
    "testdf['alley'].sort_values(ascending = False) #nans confirmed on our test set as well"
   ]
  },
  {
   "cell_type": "code",
   "execution_count": 20,
   "metadata": {},
   "outputs": [],
   "source": [
    "## reviewing the code in Excel/Numbers and iloc we found that the NaN values were a category\n",
    "## for simply not having any alley. Data Dictionary Confirms this."
   ]
  },
  {
   "cell_type": "code",
   "execution_count": 21,
   "metadata": {},
   "outputs": [],
   "source": [
    "testdf['alley'].fillna(value = 'N/A', inplace = True) #we will create a new category 'N/A'\n",
    "train['alley'].fillna(value = 'N/A', inplace = True) #we will create a new category 'N/A'"
   ]
  },
  {
   "cell_type": "code",
   "execution_count": 22,
   "metadata": {},
   "outputs": [],
   "source": [
    "#### Feature Cleaning Steps - Utilities"
   ]
  },
  {
   "cell_type": "code",
   "execution_count": 23,
   "metadata": {},
   "outputs": [
    {
     "data": {
      "text/plain": [
       "AllPub    877\n",
       "NoSewr      1\n",
       "Name: utilities, dtype: int64"
      ]
     },
     "execution_count": 23,
     "metadata": {},
     "output_type": "execute_result"
    }
   ],
   "source": [
    "testdf['utilities'].value_counts()"
   ]
  },
  {
   "cell_type": "code",
   "execution_count": 24,
   "metadata": {},
   "outputs": [
    {
     "data": {
      "text/plain": [
       "AllPub    2049\n",
       "NoSewr       1\n",
       "NoSeWa       1\n",
       "Name: utilities, dtype: int64"
      ]
     },
     "execution_count": 24,
     "metadata": {},
     "output_type": "execute_result"
    }
   ],
   "source": [
    "train['utilities'].value_counts()"
   ]
  },
  {
   "cell_type": "code",
   "execution_count": 25,
   "metadata": {},
   "outputs": [],
   "source": [
    "#we conclude to remove the single NoSewr entry on train set, it's only a single entry\n",
    "train = train[train.utilities != 'NoSeWa']"
   ]
  },
  {
   "cell_type": "code",
   "execution_count": 26,
   "metadata": {},
   "outputs": [],
   "source": [
    "#### Feature Cleaning Steps - Neighborhood"
   ]
  },
  {
   "cell_type": "code",
   "execution_count": 27,
   "metadata": {},
   "outputs": [],
   "source": [
    "tempcols = [i for i in train['neighborhood']]"
   ]
  },
  {
   "cell_type": "code",
   "execution_count": 28,
   "metadata": {},
   "outputs": [],
   "source": [
    "tempcols2 = [i for i in testdf['neighborhood']]"
   ]
  },
  {
   "cell_type": "code",
   "execution_count": 29,
   "metadata": {},
   "outputs": [
    {
     "data": {
      "text/plain": [
       "['GrnHill', 'Landmrk', 'GrnHill']"
      ]
     },
     "execution_count": 29,
     "metadata": {},
     "output_type": "execute_result"
    }
   ],
   "source": [
    "[i for i in tempcols if i not in tempcols2] \n",
    "## we have three neighborhoods in Training missing\n",
    "## from test"
   ]
  },
  {
   "cell_type": "code",
   "execution_count": 30,
   "metadata": {},
   "outputs": [
    {
     "data": {
      "text/plain": [
       "[]"
      ]
     },
     "execution_count": 30,
     "metadata": {},
     "output_type": "execute_result"
    }
   ],
   "source": [
    "[i for i in tempcols2 if i not in tempcols]"
   ]
  },
  {
   "cell_type": "code",
   "execution_count": 31,
   "metadata": {
    "scrolled": true
   },
   "outputs": [
    {
     "data": {
      "text/plain": [
       "2"
      ]
     },
     "execution_count": 31,
     "metadata": {},
     "output_type": "execute_result"
    }
   ],
   "source": [
    "(train['neighborhood'] == 'GrnHill').sum()"
   ]
  },
  {
   "cell_type": "code",
   "execution_count": 32,
   "metadata": {},
   "outputs": [
    {
     "data": {
      "text/plain": [
       "1"
      ]
     },
     "execution_count": 32,
     "metadata": {},
     "output_type": "execute_result"
    }
   ],
   "source": [
    "(train['neighborhood'] == 'Landmrk').sum()"
   ]
  },
  {
   "cell_type": "code",
   "execution_count": 33,
   "metadata": {},
   "outputs": [],
   "source": [
    "## we'll drop these too\n",
    "train = train[train.neighborhood != 'GrnHill']\n",
    "train = train[train.neighborhood != 'Landmrk']"
   ]
  },
  {
   "cell_type": "code",
   "execution_count": 34,
   "metadata": {},
   "outputs": [
    {
     "data": {
      "text/html": [
       "<div>\n",
       "<style scoped>\n",
       "    .dataframe tbody tr th:only-of-type {\n",
       "        vertical-align: middle;\n",
       "    }\n",
       "\n",
       "    .dataframe tbody tr th {\n",
       "        vertical-align: top;\n",
       "    }\n",
       "\n",
       "    .dataframe thead th {\n",
       "        text-align: right;\n",
       "    }\n",
       "</style>\n",
       "<table border=\"1\" class=\"dataframe\">\n",
       "  <thead>\n",
       "    <tr style=\"text-align: right;\">\n",
       "      <th></th>\n",
       "      <th>id</th>\n",
       "      <th>pid</th>\n",
       "      <th>ms subclass</th>\n",
       "      <th>ms zoning</th>\n",
       "      <th>lot frontage</th>\n",
       "      <th>lot area</th>\n",
       "      <th>street</th>\n",
       "      <th>alley</th>\n",
       "      <th>lot shape</th>\n",
       "      <th>land contour</th>\n",
       "      <th>...</th>\n",
       "      <th>screen porch</th>\n",
       "      <th>pool area</th>\n",
       "      <th>pool qc</th>\n",
       "      <th>fence</th>\n",
       "      <th>misc feature</th>\n",
       "      <th>misc val</th>\n",
       "      <th>mo sold</th>\n",
       "      <th>yr sold</th>\n",
       "      <th>sale type</th>\n",
       "      <th>saleprice</th>\n",
       "    </tr>\n",
       "  </thead>\n",
       "  <tbody>\n",
       "    <tr>\n",
       "      <th>0</th>\n",
       "      <td>109</td>\n",
       "      <td>533352170</td>\n",
       "      <td>60</td>\n",
       "      <td>RL</td>\n",
       "      <td>NaN</td>\n",
       "      <td>13517</td>\n",
       "      <td>Pave</td>\n",
       "      <td>N/A</td>\n",
       "      <td>IR1</td>\n",
       "      <td>Lvl</td>\n",
       "      <td>...</td>\n",
       "      <td>0</td>\n",
       "      <td>0</td>\n",
       "      <td>NaN</td>\n",
       "      <td>NaN</td>\n",
       "      <td>NaN</td>\n",
       "      <td>0</td>\n",
       "      <td>3</td>\n",
       "      <td>2010</td>\n",
       "      <td>WD</td>\n",
       "      <td>130500</td>\n",
       "    </tr>\n",
       "    <tr>\n",
       "      <th>1</th>\n",
       "      <td>544</td>\n",
       "      <td>531379050</td>\n",
       "      <td>60</td>\n",
       "      <td>RL</td>\n",
       "      <td>43.0</td>\n",
       "      <td>11492</td>\n",
       "      <td>Pave</td>\n",
       "      <td>N/A</td>\n",
       "      <td>IR1</td>\n",
       "      <td>Lvl</td>\n",
       "      <td>...</td>\n",
       "      <td>0</td>\n",
       "      <td>0</td>\n",
       "      <td>NaN</td>\n",
       "      <td>NaN</td>\n",
       "      <td>NaN</td>\n",
       "      <td>0</td>\n",
       "      <td>4</td>\n",
       "      <td>2009</td>\n",
       "      <td>WD</td>\n",
       "      <td>220000</td>\n",
       "    </tr>\n",
       "  </tbody>\n",
       "</table>\n",
       "<p>2 rows × 81 columns</p>\n",
       "</div>"
      ],
      "text/plain": [
       "    id        pid  ms subclass ms zoning  lot frontage  lot area street alley  \\\n",
       "0  109  533352170           60        RL           NaN     13517   Pave   N/A   \n",
       "1  544  531379050           60        RL          43.0     11492   Pave   N/A   \n",
       "\n",
       "  lot shape land contour  ... screen porch pool area pool qc fence  \\\n",
       "0       IR1          Lvl  ...            0         0     NaN   NaN   \n",
       "1       IR1          Lvl  ...            0         0     NaN   NaN   \n",
       "\n",
       "  misc feature misc val mo sold yr sold  sale type  saleprice  \n",
       "0          NaN        0       3    2010        WD      130500  \n",
       "1          NaN        0       4    2009        WD      220000  \n",
       "\n",
       "[2 rows x 81 columns]"
      ]
     },
     "execution_count": 34,
     "metadata": {},
     "output_type": "execute_result"
    }
   ],
   "source": [
    "train.head(2) #shape looks good with 80 columns minus the saleprice (target)"
   ]
  },
  {
   "cell_type": "code",
   "execution_count": 35,
   "metadata": {},
   "outputs": [
    {
     "data": {
      "text/html": [
       "<div>\n",
       "<style scoped>\n",
       "    .dataframe tbody tr th:only-of-type {\n",
       "        vertical-align: middle;\n",
       "    }\n",
       "\n",
       "    .dataframe tbody tr th {\n",
       "        vertical-align: top;\n",
       "    }\n",
       "\n",
       "    .dataframe thead th {\n",
       "        text-align: right;\n",
       "    }\n",
       "</style>\n",
       "<table border=\"1\" class=\"dataframe\">\n",
       "  <thead>\n",
       "    <tr style=\"text-align: right;\">\n",
       "      <th></th>\n",
       "      <th>id</th>\n",
       "      <th>pid</th>\n",
       "      <th>ms subclass</th>\n",
       "      <th>ms zoning</th>\n",
       "      <th>lot frontage</th>\n",
       "      <th>lot area</th>\n",
       "      <th>street</th>\n",
       "      <th>alley</th>\n",
       "      <th>lot shape</th>\n",
       "      <th>land contour</th>\n",
       "      <th>...</th>\n",
       "      <th>3ssn porch</th>\n",
       "      <th>screen porch</th>\n",
       "      <th>pool area</th>\n",
       "      <th>pool qc</th>\n",
       "      <th>fence</th>\n",
       "      <th>misc feature</th>\n",
       "      <th>misc val</th>\n",
       "      <th>mo sold</th>\n",
       "      <th>yr sold</th>\n",
       "      <th>sale type</th>\n",
       "    </tr>\n",
       "  </thead>\n",
       "  <tbody>\n",
       "    <tr>\n",
       "      <th>0</th>\n",
       "      <td>2658</td>\n",
       "      <td>902301120</td>\n",
       "      <td>190</td>\n",
       "      <td>RM</td>\n",
       "      <td>69.0</td>\n",
       "      <td>9142</td>\n",
       "      <td>Pave</td>\n",
       "      <td>Grvl</td>\n",
       "      <td>Reg</td>\n",
       "      <td>Lvl</td>\n",
       "      <td>...</td>\n",
       "      <td>0</td>\n",
       "      <td>0</td>\n",
       "      <td>0</td>\n",
       "      <td>NaN</td>\n",
       "      <td>NaN</td>\n",
       "      <td>NaN</td>\n",
       "      <td>0</td>\n",
       "      <td>4</td>\n",
       "      <td>2006</td>\n",
       "      <td>WD</td>\n",
       "    </tr>\n",
       "    <tr>\n",
       "      <th>1</th>\n",
       "      <td>2718</td>\n",
       "      <td>905108090</td>\n",
       "      <td>90</td>\n",
       "      <td>RL</td>\n",
       "      <td>NaN</td>\n",
       "      <td>9662</td>\n",
       "      <td>Pave</td>\n",
       "      <td>N/A</td>\n",
       "      <td>IR1</td>\n",
       "      <td>Lvl</td>\n",
       "      <td>...</td>\n",
       "      <td>0</td>\n",
       "      <td>0</td>\n",
       "      <td>0</td>\n",
       "      <td>NaN</td>\n",
       "      <td>NaN</td>\n",
       "      <td>NaN</td>\n",
       "      <td>0</td>\n",
       "      <td>8</td>\n",
       "      <td>2006</td>\n",
       "      <td>WD</td>\n",
       "    </tr>\n",
       "  </tbody>\n",
       "</table>\n",
       "<p>2 rows × 80 columns</p>\n",
       "</div>"
      ],
      "text/plain": [
       "     id        pid  ms subclass ms zoning  lot frontage  lot area street  \\\n",
       "0  2658  902301120          190        RM          69.0      9142   Pave   \n",
       "1  2718  905108090           90        RL           NaN      9662   Pave   \n",
       "\n",
       "  alley lot shape land contour  ... 3ssn porch screen porch pool area pool qc  \\\n",
       "0  Grvl       Reg          Lvl  ...          0            0         0     NaN   \n",
       "1   N/A       IR1          Lvl  ...          0            0         0     NaN   \n",
       "\n",
       "  fence misc feature misc val mo sold  yr sold  sale type  \n",
       "0   NaN          NaN        0       4     2006        WD   \n",
       "1   NaN          NaN        0       8     2006        WD   \n",
       "\n",
       "[2 rows x 80 columns]"
      ]
     },
     "execution_count": 35,
     "metadata": {},
     "output_type": "execute_result"
    }
   ],
   "source": [
    "testdf.head(2) #shape looks good with 80 columns minus the saleprice (target)"
   ]
  },
  {
   "cell_type": "markdown",
   "metadata": {},
   "source": [
    "**Personal note: `train` and `testdf` end here before dummies, they just have lower-cased cleaned categoricals and can be used for future feature sets**"
   ]
  },
  {
   "cell_type": "code",
   "execution_count": 36,
   "metadata": {},
   "outputs": [],
   "source": [
    "#### Finally, we have to get_dummies our columns so they can be used numerically for \n",
    "## our LinearRegression model to fit"
   ]
  },
  {
   "cell_type": "markdown",
   "metadata": {},
   "source": [
    "##### Fitting - dummy columns\n",
    "  - We will create 2 new dataframes for `test` and `traindf`\n",
    "   - **reason**: We will need to drop originally named columns and add dummy columns. For this reason we will need to maintain column consistency between `traindf` and `test` without losing our original cleaning\n",
    "  - get_dummies will one-hot encode our categories with `drop_first=True` enabled to avoid multicolinearity.\n",
    "  - we'll cross_train_split our data\n",
    "  - fit the data\n",
    "  - score\n",
    "<br><br> Reference: [Feature Selections](#Categorical-House-Features)"
   ]
  },
  {
   "cell_type": "code",
   "execution_count": 37,
   "metadata": {},
   "outputs": [],
   "source": [
    "# we will rename 2 new dataframes for testing our categorical columns\n",
    "testv1 = testdf[testcols]\n",
    "dfv1 = train[traincols]"
   ]
  },
  {
   "cell_type": "code",
   "execution_count": 38,
   "metadata": {},
   "outputs": [],
   "source": [
    "testv1 = testdf[testcols] #includes id and saleprice\n",
    "dfv1 = train[traincols] #includes id"
   ]
  },
  {
   "cell_type": "code",
   "execution_count": 39,
   "metadata": {},
   "outputs": [],
   "source": [
    "# dummify our categorical train cols\n",
    "street_dummies = pd.get_dummies(dfv1['street'], prefix = 'street', drop_first = True)\n",
    "alley_dummies = pd.get_dummies(dfv1['alley'], prefix = 'alley', drop_first = True)\n",
    "lot_shape_dummies = pd.get_dummies(dfv1['lot shape'], prefix = 'lot shape', drop_first = True)\n",
    "land_contour_dummies = pd.get_dummies(dfv1['land contour'], prefix = 'land contour', drop_first = True)\n",
    "utilities_dummies = pd.get_dummies(dfv1['utilities'], prefix = 'utilities', drop_first = True)\n",
    "lot_config_dummies = pd.get_dummies(dfv1['lot config'], prefix = 'lot config', drop_first = True)\n",
    "neighborhood_dummies = pd.get_dummies(dfv1['neighborhood'], prefix = 'neighborhood', drop_first = True)\n",
    "bldg_type_dummies = pd.get_dummies(dfv1['bldg type'], prefix = 'bldg type', drop_first = True)\n",
    "house_style_dummies = pd.get_dummies(dfv1['house style'], prefix = 'house style', drop_first = True)"
   ]
  },
  {
   "cell_type": "code",
   "execution_count": 40,
   "metadata": {},
   "outputs": [
    {
     "data": {
      "text/html": [
       "<div>\n",
       "<style scoped>\n",
       "    .dataframe tbody tr th:only-of-type {\n",
       "        vertical-align: middle;\n",
       "    }\n",
       "\n",
       "    .dataframe tbody tr th {\n",
       "        vertical-align: top;\n",
       "    }\n",
       "\n",
       "    .dataframe thead th {\n",
       "        text-align: right;\n",
       "    }\n",
       "</style>\n",
       "<table border=\"1\" class=\"dataframe\">\n",
       "  <thead>\n",
       "    <tr style=\"text-align: right;\">\n",
       "      <th></th>\n",
       "      <th>id</th>\n",
       "      <th>saleprice</th>\n",
       "      <th>street_Pave</th>\n",
       "      <th>alley_N/A</th>\n",
       "      <th>alley_Pave</th>\n",
       "      <th>lot shape_IR2</th>\n",
       "      <th>lot shape_IR3</th>\n",
       "      <th>lot shape_Reg</th>\n",
       "      <th>land contour_HLS</th>\n",
       "      <th>land contour_Low</th>\n",
       "      <th>...</th>\n",
       "      <th>bldg type_Duplex</th>\n",
       "      <th>bldg type_Twnhs</th>\n",
       "      <th>bldg type_TwnhsE</th>\n",
       "      <th>house style_1.5Unf</th>\n",
       "      <th>house style_1Story</th>\n",
       "      <th>house style_2.5Fin</th>\n",
       "      <th>house style_2.5Unf</th>\n",
       "      <th>house style_2Story</th>\n",
       "      <th>house style_SFoyer</th>\n",
       "      <th>house style_SLvl</th>\n",
       "    </tr>\n",
       "  </thead>\n",
       "  <tbody>\n",
       "    <tr>\n",
       "      <th>0</th>\n",
       "      <td>109</td>\n",
       "      <td>130500</td>\n",
       "      <td>1</td>\n",
       "      <td>1</td>\n",
       "      <td>0</td>\n",
       "      <td>0</td>\n",
       "      <td>0</td>\n",
       "      <td>0</td>\n",
       "      <td>0</td>\n",
       "      <td>0</td>\n",
       "      <td>...</td>\n",
       "      <td>0</td>\n",
       "      <td>0</td>\n",
       "      <td>0</td>\n",
       "      <td>0</td>\n",
       "      <td>0</td>\n",
       "      <td>0</td>\n",
       "      <td>0</td>\n",
       "      <td>1</td>\n",
       "      <td>0</td>\n",
       "      <td>0</td>\n",
       "    </tr>\n",
       "    <tr>\n",
       "      <th>1</th>\n",
       "      <td>544</td>\n",
       "      <td>220000</td>\n",
       "      <td>1</td>\n",
       "      <td>1</td>\n",
       "      <td>0</td>\n",
       "      <td>0</td>\n",
       "      <td>0</td>\n",
       "      <td>0</td>\n",
       "      <td>0</td>\n",
       "      <td>0</td>\n",
       "      <td>...</td>\n",
       "      <td>0</td>\n",
       "      <td>0</td>\n",
       "      <td>0</td>\n",
       "      <td>0</td>\n",
       "      <td>0</td>\n",
       "      <td>0</td>\n",
       "      <td>0</td>\n",
       "      <td>1</td>\n",
       "      <td>0</td>\n",
       "      <td>0</td>\n",
       "    </tr>\n",
       "  </tbody>\n",
       "</table>\n",
       "<p>2 rows × 52 columns</p>\n",
       "</div>"
      ],
      "text/plain": [
       "    id  saleprice  street_Pave  alley_N/A  alley_Pave  lot shape_IR2  \\\n",
       "0  109     130500            1          1           0              0   \n",
       "1  544     220000            1          1           0              0   \n",
       "\n",
       "   lot shape_IR3  lot shape_Reg  land contour_HLS  land contour_Low  ...  \\\n",
       "0              0              0                 0                 0  ...   \n",
       "1              0              0                 0                 0  ...   \n",
       "\n",
       "   bldg type_Duplex  bldg type_Twnhs  bldg type_TwnhsE  house style_1.5Unf  \\\n",
       "0                 0                0                 0                   0   \n",
       "1                 0                0                 0                   0   \n",
       "\n",
       "   house style_1Story  house style_2.5Fin  house style_2.5Unf  \\\n",
       "0                   0                   0                   0   \n",
       "1                   0                   0                   0   \n",
       "\n",
       "   house style_2Story  house style_SFoyer  house style_SLvl  \n",
       "0                   1                   0                 0  \n",
       "1                   1                   0                 0  \n",
       "\n",
       "[2 rows x 52 columns]"
      ]
     },
     "execution_count": 40,
     "metadata": {},
     "output_type": "execute_result"
    }
   ],
   "source": [
    "#join the dummies\n",
    "dfv1 = dfv1.join(street_dummies, on = dfv1.index)\n",
    "dfv1 = dfv1.join(alley_dummies, on = dfv1.index)\n",
    "dfv1 = dfv1.join(lot_shape_dummies, on = dfv1.index)\n",
    "dfv1 = dfv1.join(land_contour_dummies, on = dfv1.index)\n",
    "dfv1 = dfv1.join(utilities_dummies, on = dfv1.index)\n",
    "dfv1 = dfv1.join(lot_config_dummies, on = dfv1.index)\n",
    "dfv1 = dfv1.join(neighborhood_dummies, on = dfv1.index)\n",
    "dfv1 = dfv1.join(bldg_type_dummies, on = dfv1.index)\n",
    "dfv1 = dfv1.join(house_style_dummies, on = dfv1.index)\n",
    "# drop the original features that are now dummified\n",
    "dfv1 = dfv1.drop(columns=features)\n",
    "dfv1.head(2)"
   ]
  },
  {
   "cell_type": "code",
   "execution_count": 41,
   "metadata": {},
   "outputs": [],
   "source": [
    "# dummify our categorical test cols\n",
    "street_dummies = pd.get_dummies(testv1['street'], prefix = 'street', drop_first = True)\n",
    "alley_dummies = pd.get_dummies(testv1['alley'], prefix = 'alley', drop_first = True)\n",
    "lot_shape_dummies = pd.get_dummies(testv1['lot shape'], prefix = 'lot shape', drop_first = True)\n",
    "land_contour_dummies = pd.get_dummies(testv1['land contour'], prefix = 'land contour', drop_first = True)\n",
    "utilities_dummies = pd.get_dummies(testv1['utilities'], prefix = 'utilities', drop_first = True)\n",
    "lot_config_dummies = pd.get_dummies(testv1['lot config'], prefix = 'lot config', drop_first = True)\n",
    "neighborhood_dummies = pd.get_dummies(testv1['neighborhood'], prefix = 'neighborhood', drop_first = True)\n",
    "bldg_type_dummies = pd.get_dummies(testv1['bldg type'], prefix = 'bldg type', drop_first = True)\n",
    "house_style_dummies = pd.get_dummies(testv1['house style'], prefix = 'house style', drop_first = True)"
   ]
  },
  {
   "cell_type": "code",
   "execution_count": 42,
   "metadata": {},
   "outputs": [
    {
     "data": {
      "text/html": [
       "<div>\n",
       "<style scoped>\n",
       "    .dataframe tbody tr th:only-of-type {\n",
       "        vertical-align: middle;\n",
       "    }\n",
       "\n",
       "    .dataframe tbody tr th {\n",
       "        vertical-align: top;\n",
       "    }\n",
       "\n",
       "    .dataframe thead th {\n",
       "        text-align: right;\n",
       "    }\n",
       "</style>\n",
       "<table border=\"1\" class=\"dataframe\">\n",
       "  <thead>\n",
       "    <tr style=\"text-align: right;\">\n",
       "      <th></th>\n",
       "      <th>id</th>\n",
       "      <th>street_Pave</th>\n",
       "      <th>alley_N/A</th>\n",
       "      <th>alley_Pave</th>\n",
       "      <th>lot shape_IR2</th>\n",
       "      <th>lot shape_IR3</th>\n",
       "      <th>lot shape_Reg</th>\n",
       "      <th>land contour_HLS</th>\n",
       "      <th>land contour_Low</th>\n",
       "      <th>land contour_Lvl</th>\n",
       "      <th>...</th>\n",
       "      <th>bldg type_Duplex</th>\n",
       "      <th>bldg type_Twnhs</th>\n",
       "      <th>bldg type_TwnhsE</th>\n",
       "      <th>house style_1.5Unf</th>\n",
       "      <th>house style_1Story</th>\n",
       "      <th>house style_2.5Fin</th>\n",
       "      <th>house style_2.5Unf</th>\n",
       "      <th>house style_2Story</th>\n",
       "      <th>house style_SFoyer</th>\n",
       "      <th>house style_SLvl</th>\n",
       "    </tr>\n",
       "  </thead>\n",
       "  <tbody>\n",
       "    <tr>\n",
       "      <th>0</th>\n",
       "      <td>2658</td>\n",
       "      <td>1</td>\n",
       "      <td>0</td>\n",
       "      <td>0</td>\n",
       "      <td>0</td>\n",
       "      <td>0</td>\n",
       "      <td>1</td>\n",
       "      <td>0</td>\n",
       "      <td>0</td>\n",
       "      <td>1</td>\n",
       "      <td>...</td>\n",
       "      <td>0</td>\n",
       "      <td>0</td>\n",
       "      <td>0</td>\n",
       "      <td>0</td>\n",
       "      <td>0</td>\n",
       "      <td>0</td>\n",
       "      <td>0</td>\n",
       "      <td>1</td>\n",
       "      <td>0</td>\n",
       "      <td>0</td>\n",
       "    </tr>\n",
       "    <tr>\n",
       "      <th>1</th>\n",
       "      <td>2718</td>\n",
       "      <td>1</td>\n",
       "      <td>1</td>\n",
       "      <td>0</td>\n",
       "      <td>0</td>\n",
       "      <td>0</td>\n",
       "      <td>0</td>\n",
       "      <td>0</td>\n",
       "      <td>0</td>\n",
       "      <td>1</td>\n",
       "      <td>...</td>\n",
       "      <td>1</td>\n",
       "      <td>0</td>\n",
       "      <td>0</td>\n",
       "      <td>0</td>\n",
       "      <td>1</td>\n",
       "      <td>0</td>\n",
       "      <td>0</td>\n",
       "      <td>0</td>\n",
       "      <td>0</td>\n",
       "      <td>0</td>\n",
       "    </tr>\n",
       "  </tbody>\n",
       "</table>\n",
       "<p>2 rows × 51 columns</p>\n",
       "</div>"
      ],
      "text/plain": [
       "     id  street_Pave  alley_N/A  alley_Pave  lot shape_IR2  lot shape_IR3  \\\n",
       "0  2658            1          0           0              0              0   \n",
       "1  2718            1          1           0              0              0   \n",
       "\n",
       "   lot shape_Reg  land contour_HLS  land contour_Low  land contour_Lvl  ...  \\\n",
       "0              1                 0                 0                 1  ...   \n",
       "1              0                 0                 0                 1  ...   \n",
       "\n",
       "   bldg type_Duplex  bldg type_Twnhs  bldg type_TwnhsE  house style_1.5Unf  \\\n",
       "0                 0                0                 0                   0   \n",
       "1                 1                0                 0                   0   \n",
       "\n",
       "   house style_1Story  house style_2.5Fin  house style_2.5Unf  \\\n",
       "0                   0                   0                   0   \n",
       "1                   1                   0                   0   \n",
       "\n",
       "   house style_2Story  house style_SFoyer  house style_SLvl  \n",
       "0                   1                   0                 0  \n",
       "1                   0                   0                 0  \n",
       "\n",
       "[2 rows x 51 columns]"
      ]
     },
     "execution_count": 42,
     "metadata": {},
     "output_type": "execute_result"
    }
   ],
   "source": [
    "#join the dummies\n",
    "testv1 = testv1.join(street_dummies, on = testv1.index)\n",
    "testv1 = testv1.join(alley_dummies, on = testv1.index)\n",
    "testv1 = testv1.join(lot_shape_dummies, on = testv1.index)\n",
    "testv1 = testv1.join(land_contour_dummies, on = testv1.index)\n",
    "testv1 = testv1.join(utilities_dummies, on = testv1.index)\n",
    "testv1 = testv1.join(lot_config_dummies, on = testv1.index)\n",
    "testv1 = testv1.join(neighborhood_dummies, on = testv1.index)\n",
    "testv1 = testv1.join(bldg_type_dummies, on = testv1.index)\n",
    "testv1 = testv1.join(house_style_dummies, on = testv1.index)\n",
    "# drop the original features that are now dummified\n",
    "testv1 = testv1.drop(columns=features)\n",
    "testv1.head(2)"
   ]
  },
  {
   "cell_type": "code",
   "execution_count": 43,
   "metadata": {},
   "outputs": [
    {
     "data": {
      "text/html": [
       "<div>\n",
       "<style scoped>\n",
       "    .dataframe tbody tr th:only-of-type {\n",
       "        vertical-align: middle;\n",
       "    }\n",
       "\n",
       "    .dataframe tbody tr th {\n",
       "        vertical-align: top;\n",
       "    }\n",
       "\n",
       "    .dataframe thead th {\n",
       "        text-align: right;\n",
       "    }\n",
       "</style>\n",
       "<table border=\"1\" class=\"dataframe\">\n",
       "  <thead>\n",
       "    <tr style=\"text-align: right;\">\n",
       "      <th></th>\n",
       "      <th>saleprice</th>\n",
       "    </tr>\n",
       "  </thead>\n",
       "  <tbody>\n",
       "    <tr>\n",
       "      <th>saleprice</th>\n",
       "      <td>1.000000</td>\n",
       "    </tr>\n",
       "    <tr>\n",
       "      <th>neighborhood_NridgHt</th>\n",
       "      <td>0.449338</td>\n",
       "    </tr>\n",
       "    <tr>\n",
       "      <th>neighborhood_NoRidge</th>\n",
       "      <td>0.263795</td>\n",
       "    </tr>\n",
       "    <tr>\n",
       "      <th>neighborhood_StoneBr</th>\n",
       "      <td>0.257357</td>\n",
       "    </tr>\n",
       "    <tr>\n",
       "      <th>land contour_HLS</th>\n",
       "      <td>0.212627</td>\n",
       "    </tr>\n",
       "    <tr>\n",
       "      <th>house style_2Story</th>\n",
       "      <td>0.203348</td>\n",
       "    </tr>\n",
       "    <tr>\n",
       "      <th>lot config_CulDSac</th>\n",
       "      <td>0.164488</td>\n",
       "    </tr>\n",
       "    <tr>\n",
       "      <th>neighborhood_Somerst</th>\n",
       "      <td>0.150428</td>\n",
       "    </tr>\n",
       "    <tr>\n",
       "      <th>alley_N/A</th>\n",
       "      <td>0.135031</td>\n",
       "    </tr>\n",
       "    <tr>\n",
       "      <th>neighborhood_Timber</th>\n",
       "      <td>0.119647</td>\n",
       "    </tr>\n",
       "    <tr>\n",
       "      <th>lot shape_IR2</th>\n",
       "      <td>0.110186</td>\n",
       "    </tr>\n",
       "    <tr>\n",
       "      <th>neighborhood_Veenker</th>\n",
       "      <td>0.083339</td>\n",
       "    </tr>\n",
       "    <tr>\n",
       "      <th>neighborhood_CollgCr</th>\n",
       "      <td>0.082615</td>\n",
       "    </tr>\n",
       "    <tr>\n",
       "      <th>street_Pave</th>\n",
       "      <td>0.069879</td>\n",
       "    </tr>\n",
       "    <tr>\n",
       "      <th>neighborhood_Crawfor</th>\n",
       "      <td>0.058579</td>\n",
       "    </tr>\n",
       "    <tr>\n",
       "      <th>bldg type_TwnhsE</th>\n",
       "      <td>0.058122</td>\n",
       "    </tr>\n",
       "    <tr>\n",
       "      <th>neighborhood_ClearCr</th>\n",
       "      <td>0.052639</td>\n",
       "    </tr>\n",
       "    <tr>\n",
       "      <th>house style_2.5Fin</th>\n",
       "      <td>0.042600</td>\n",
       "    </tr>\n",
       "    <tr>\n",
       "      <th>neighborhood_NWAmes</th>\n",
       "      <td>0.035107</td>\n",
       "    </tr>\n",
       "    <tr>\n",
       "      <th>land contour_Low</th>\n",
       "      <td>0.033088</td>\n",
       "    </tr>\n",
       "    <tr>\n",
       "      <th>neighborhood_Gilbert</th>\n",
       "      <td>0.024166</td>\n",
       "    </tr>\n",
       "    <tr>\n",
       "      <th>neighborhood_SawyerW</th>\n",
       "      <td>0.016868</td>\n",
       "    </tr>\n",
       "    <tr>\n",
       "      <th>lot config_FR3</th>\n",
       "      <td>0.014413</td>\n",
       "    </tr>\n",
       "    <tr>\n",
       "      <th>house style_2.5Unf</th>\n",
       "      <td>0.010860</td>\n",
       "    </tr>\n",
       "    <tr>\n",
       "      <th>lot shape_IR3</th>\n",
       "      <td>0.009868</td>\n",
       "    </tr>\n",
       "    <tr>\n",
       "      <th>neighborhood_Greens</th>\n",
       "      <td>0.003506</td>\n",
       "    </tr>\n",
       "    <tr>\n",
       "      <th>alley_Pave</th>\n",
       "      <td>-0.014433</td>\n",
       "    </tr>\n",
       "    <tr>\n",
       "      <th>lot config_FR2</th>\n",
       "      <td>-0.014723</td>\n",
       "    </tr>\n",
       "    <tr>\n",
       "      <th>house style_1Story</th>\n",
       "      <td>-0.023436</td>\n",
       "    </tr>\n",
       "    <tr>\n",
       "      <th>neighborhood_Blueste</th>\n",
       "      <td>-0.025218</td>\n",
       "    </tr>\n",
       "    <tr>\n",
       "      <th>utilities_NoSewr</th>\n",
       "      <td>-0.034542</td>\n",
       "    </tr>\n",
       "    <tr>\n",
       "      <th>neighborhood_Mitchel</th>\n",
       "      <td>-0.035478</td>\n",
       "    </tr>\n",
       "    <tr>\n",
       "      <th>house style_SLvl</th>\n",
       "      <td>-0.040914</td>\n",
       "    </tr>\n",
       "    <tr>\n",
       "      <th>neighborhood_NPkVill</th>\n",
       "      <td>-0.047287</td>\n",
       "    </tr>\n",
       "    <tr>\n",
       "      <th>id</th>\n",
       "      <td>-0.052630</td>\n",
       "    </tr>\n",
       "    <tr>\n",
       "      <th>house style_SFoyer</th>\n",
       "      <td>-0.064054</td>\n",
       "    </tr>\n",
       "    <tr>\n",
       "      <th>house style_1.5Unf</th>\n",
       "      <td>-0.066828</td>\n",
       "    </tr>\n",
       "    <tr>\n",
       "      <th>neighborhood_SWISU</th>\n",
       "      <td>-0.074212</td>\n",
       "    </tr>\n",
       "    <tr>\n",
       "      <th>lot config_Inside</th>\n",
       "      <td>-0.083378</td>\n",
       "    </tr>\n",
       "    <tr>\n",
       "      <th>land contour_Lvl</th>\n",
       "      <td>-0.093167</td>\n",
       "    </tr>\n",
       "    <tr>\n",
       "      <th>neighborhood_BrDale</th>\n",
       "      <td>-0.095346</td>\n",
       "    </tr>\n",
       "    <tr>\n",
       "      <th>bldg type_Duplex</th>\n",
       "      <td>-0.103677</td>\n",
       "    </tr>\n",
       "    <tr>\n",
       "      <th>bldg type_2fmCon</th>\n",
       "      <td>-0.111446</td>\n",
       "    </tr>\n",
       "    <tr>\n",
       "      <th>neighborhood_MeadowV</th>\n",
       "      <td>-0.111609</td>\n",
       "    </tr>\n",
       "    <tr>\n",
       "      <th>bldg type_Twnhs</th>\n",
       "      <td>-0.113177</td>\n",
       "    </tr>\n",
       "    <tr>\n",
       "      <th>neighborhood_Sawyer</th>\n",
       "      <td>-0.133686</td>\n",
       "    </tr>\n",
       "    <tr>\n",
       "      <th>neighborhood_BrkSide</th>\n",
       "      <td>-0.134812</td>\n",
       "    </tr>\n",
       "    <tr>\n",
       "      <th>neighborhood_Edwards</th>\n",
       "      <td>-0.176142</td>\n",
       "    </tr>\n",
       "    <tr>\n",
       "      <th>neighborhood_IDOTRR</th>\n",
       "      <td>-0.189327</td>\n",
       "    </tr>\n",
       "    <tr>\n",
       "      <th>neighborhood_NAmes</th>\n",
       "      <td>-0.189346</td>\n",
       "    </tr>\n",
       "    <tr>\n",
       "      <th>neighborhood_OldTown</th>\n",
       "      <td>-0.208421</td>\n",
       "    </tr>\n",
       "    <tr>\n",
       "      <th>lot shape_Reg</th>\n",
       "      <td>-0.306264</td>\n",
       "    </tr>\n",
       "  </tbody>\n",
       "</table>\n",
       "</div>"
      ],
      "text/plain": [
       "                      saleprice\n",
       "saleprice              1.000000\n",
       "neighborhood_NridgHt   0.449338\n",
       "neighborhood_NoRidge   0.263795\n",
       "neighborhood_StoneBr   0.257357\n",
       "land contour_HLS       0.212627\n",
       "house style_2Story     0.203348\n",
       "lot config_CulDSac     0.164488\n",
       "neighborhood_Somerst   0.150428\n",
       "alley_N/A              0.135031\n",
       "neighborhood_Timber    0.119647\n",
       "lot shape_IR2          0.110186\n",
       "neighborhood_Veenker   0.083339\n",
       "neighborhood_CollgCr   0.082615\n",
       "street_Pave            0.069879\n",
       "neighborhood_Crawfor   0.058579\n",
       "bldg type_TwnhsE       0.058122\n",
       "neighborhood_ClearCr   0.052639\n",
       "house style_2.5Fin     0.042600\n",
       "neighborhood_NWAmes    0.035107\n",
       "land contour_Low       0.033088\n",
       "neighborhood_Gilbert   0.024166\n",
       "neighborhood_SawyerW   0.016868\n",
       "lot config_FR3         0.014413\n",
       "house style_2.5Unf     0.010860\n",
       "lot shape_IR3          0.009868\n",
       "neighborhood_Greens    0.003506\n",
       "alley_Pave            -0.014433\n",
       "lot config_FR2        -0.014723\n",
       "house style_1Story    -0.023436\n",
       "neighborhood_Blueste  -0.025218\n",
       "utilities_NoSewr      -0.034542\n",
       "neighborhood_Mitchel  -0.035478\n",
       "house style_SLvl      -0.040914\n",
       "neighborhood_NPkVill  -0.047287\n",
       "id                    -0.052630\n",
       "house style_SFoyer    -0.064054\n",
       "house style_1.5Unf    -0.066828\n",
       "neighborhood_SWISU    -0.074212\n",
       "lot config_Inside     -0.083378\n",
       "land contour_Lvl      -0.093167\n",
       "neighborhood_BrDale   -0.095346\n",
       "bldg type_Duplex      -0.103677\n",
       "bldg type_2fmCon      -0.111446\n",
       "neighborhood_MeadowV  -0.111609\n",
       "bldg type_Twnhs       -0.113177\n",
       "neighborhood_Sawyer   -0.133686\n",
       "neighborhood_BrkSide  -0.134812\n",
       "neighborhood_Edwards  -0.176142\n",
       "neighborhood_IDOTRR   -0.189327\n",
       "neighborhood_NAmes    -0.189346\n",
       "neighborhood_OldTown  -0.208421\n",
       "lot shape_Reg         -0.306264"
      ]
     },
     "execution_count": 43,
     "metadata": {},
     "output_type": "execute_result"
    }
   ],
   "source": [
    "dfv1.corr()[['saleprice']].sort_values('saleprice', ascending = False)"
   ]
  },
  {
   "cell_type": "markdown",
   "metadata": {},
   "source": [
    "##### Scoring\n",
    "  - Finally we can proceed with establishing our X and y\n",
    "   - instantiate the model\n",
    "   - cross_val check\n",
    "   - fit and score once more"
   ]
  },
  {
   "cell_type": "code",
   "execution_count": 44,
   "metadata": {},
   "outputs": [],
   "source": [
    "# X : our features; y : our target of guessing saleprice; Xt : test features\n",
    "X = dfv1.drop(columns = ['id', 'saleprice'])\n",
    "y = dfv1['saleprice']\n",
    "Xt = testv1.drop(columns = ['id'])"
   ]
  },
  {
   "cell_type": "code",
   "execution_count": 45,
   "metadata": {},
   "outputs": [
    {
     "name": "stdout",
     "output_type": "stream",
     "text": [
      "(2047, 50)\n",
      "(2047,)\n",
      "(878, 50)\n"
     ]
    }
   ],
   "source": [
    "print(X.shape)\n",
    "print(y.shape)\n",
    "print(Xt.shape)"
   ]
  },
  {
   "cell_type": "markdown",
   "metadata": {},
   "source": [
    "X and Xt have matching columns, y is reporting as a vector. We're looking good for testing"
   ]
  },
  {
   "cell_type": "code",
   "execution_count": 46,
   "metadata": {},
   "outputs": [],
   "source": [
    "X_train, X_test, y_train, y_test = train_test_split(X, y, random_state = 123) #we'll leave the defaul 75/25 split"
   ]
  },
  {
   "cell_type": "code",
   "execution_count": 47,
   "metadata": {},
   "outputs": [
    {
     "name": "stdout",
     "output_type": "stream",
     "text": [
      "(1535, 50)\n",
      "(1535,)\n"
     ]
    }
   ],
   "source": [
    "print(X_train.shape)\n",
    "print(y_train.shape)"
   ]
  },
  {
   "cell_type": "code",
   "execution_count": 48,
   "metadata": {},
   "outputs": [
    {
     "data": {
      "text/plain": [
       "0.6163932809393643"
      ]
     },
     "execution_count": 48,
     "metadata": {},
     "output_type": "execute_result"
    }
   ],
   "source": [
    "# instantiate the model\n",
    "lr = LinearRegression()\n",
    "# check cross_val_score\n",
    "cross_val_score(lr, X_train, y_train, cv=5).mean()"
   ]
  },
  {
   "cell_type": "code",
   "execution_count": 49,
   "metadata": {},
   "outputs": [],
   "source": [
    "#fit the model\n",
    "lr.fit(X_train, y_train);"
   ]
  },
  {
   "cell_type": "code",
   "execution_count": 50,
   "metadata": {},
   "outputs": [
    {
     "name": "stdout",
     "output_type": "stream",
     "text": [
      "train score 0.6578429575225204\n",
      "test score 0.5762651698596276\n",
      "cross val score 0.6163932809393643\n"
     ]
    }
   ],
   "source": [
    "#pulled from flex review files for ease of score tracking\n",
    "print('train score', lr.score(X_train, y_train))\n",
    "\n",
    "print('test score', lr.score(X_test, y_test))\n",
    "\n",
    "print('cross val score', cross_val_score(lr, X_train, y_train, cv =5).mean())"
   ]
  },
  {
   "cell_type": "code",
   "execution_count": 51,
   "metadata": {},
   "outputs": [],
   "source": [
    "#running predictions for MRSE on training set\n",
    "trainpreds = lr.predict(X_train) "
   ]
  },
  {
   "cell_type": "code",
   "execution_count": 52,
   "metadata": {
    "scrolled": true
   },
   "outputs": [
    {
     "data": {
      "text/plain": [
       "46848.294477176525"
      ]
     },
     "execution_count": 52,
     "metadata": {},
     "output_type": "execute_result"
    }
   ],
   "source": [
    "np.sqrt(metrics.mean_squared_error(y_train, trainpreds))"
   ]
  },
  {
   "cell_type": "code",
   "execution_count": 53,
   "metadata": {},
   "outputs": [],
   "source": [
    "#running predictions for MRSE on complete set\n",
    "realpred = lr.predict(X)"
   ]
  },
  {
   "cell_type": "code",
   "execution_count": 54,
   "metadata": {},
   "outputs": [
    {
     "name": "stdout",
     "output_type": "stream",
     "text": [
      "Split/Train MRSE: 46848.294477176525\n",
      "Numerical Feature MRSE: 47592.55017675726\n"
     ]
    }
   ],
   "source": [
    "print(f'Split/Train MRSE: {np.sqrt(metrics.mean_squared_error(y_train, trainpreds))}')\n",
    "print(f'Numerical Feature MRSE: {np.sqrt(metrics.mean_squared_error(y, realpred))}')"
   ]
  },
  {
   "cell_type": "code",
   "execution_count": 55,
   "metadata": {},
   "outputs": [
    {
     "data": {
      "text/plain": [
       "0.6455431466231798"
      ]
     },
     "execution_count": 55,
     "metadata": {},
     "output_type": "execute_result"
    }
   ],
   "source": [
    "# scikit's r2 score on full model\n",
    "lr2 = LinearRegression()\n",
    "lr2.fit(X, y)\n",
    "lr2.score(X, y)"
   ]
  },
  {
   "cell_type": "code",
   "execution_count": 56,
   "metadata": {},
   "outputs": [],
   "source": [
    "subf1 = testdf # set up our df for submission using our cleaned testdf"
   ]
  },
  {
   "cell_type": "code",
   "execution_count": 57,
   "metadata": {},
   "outputs": [],
   "source": [
    "preds = lr.predict(Xt) #build our predictions"
   ]
  },
  {
   "cell_type": "code",
   "execution_count": 58,
   "metadata": {},
   "outputs": [],
   "source": [
    "subf1['SalePrice'] = preds"
   ]
  },
  {
   "cell_type": "code",
   "execution_count": 59,
   "metadata": {},
   "outputs": [
    {
     "data": {
      "text/html": [
       "<div>\n",
       "<style scoped>\n",
       "    .dataframe tbody tr th:only-of-type {\n",
       "        vertical-align: middle;\n",
       "    }\n",
       "\n",
       "    .dataframe tbody tr th {\n",
       "        vertical-align: top;\n",
       "    }\n",
       "\n",
       "    .dataframe thead th {\n",
       "        text-align: right;\n",
       "    }\n",
       "</style>\n",
       "<table border=\"1\" class=\"dataframe\">\n",
       "  <thead>\n",
       "    <tr style=\"text-align: right;\">\n",
       "      <th></th>\n",
       "      <th>id</th>\n",
       "      <th>SalePrice</th>\n",
       "    </tr>\n",
       "  </thead>\n",
       "  <tbody>\n",
       "    <tr>\n",
       "      <th>0</th>\n",
       "      <td>2658</td>\n",
       "      <td>119571.154787</td>\n",
       "    </tr>\n",
       "    <tr>\n",
       "      <th>1</th>\n",
       "      <td>2718</td>\n",
       "      <td>123165.578312</td>\n",
       "    </tr>\n",
       "  </tbody>\n",
       "</table>\n",
       "</div>"
      ],
      "text/plain": [
       "     id      SalePrice\n",
       "0  2658  119571.154787\n",
       "1  2718  123165.578312"
      ]
     },
     "execution_count": 59,
     "metadata": {},
     "output_type": "execute_result"
    }
   ],
   "source": [
    "subf1 = subf1[['id', 'SalePrice']].copy() #copy over our columnms\n",
    "subf1.head(2) # id is off"
   ]
  },
  {
   "cell_type": "code",
   "execution_count": 60,
   "metadata": {},
   "outputs": [
    {
     "data": {
      "text/html": [
       "<div>\n",
       "<style scoped>\n",
       "    .dataframe tbody tr th:only-of-type {\n",
       "        vertical-align: middle;\n",
       "    }\n",
       "\n",
       "    .dataframe tbody tr th {\n",
       "        vertical-align: top;\n",
       "    }\n",
       "\n",
       "    .dataframe thead th {\n",
       "        text-align: right;\n",
       "    }\n",
       "</style>\n",
       "<table border=\"1\" class=\"dataframe\">\n",
       "  <thead>\n",
       "    <tr style=\"text-align: right;\">\n",
       "      <th></th>\n",
       "      <th>Id</th>\n",
       "      <th>SalePrice</th>\n",
       "    </tr>\n",
       "  </thead>\n",
       "  <tbody>\n",
       "    <tr>\n",
       "      <th>0</th>\n",
       "      <td>2658</td>\n",
       "      <td>119571.154787</td>\n",
       "    </tr>\n",
       "    <tr>\n",
       "      <th>1</th>\n",
       "      <td>2718</td>\n",
       "      <td>123165.578312</td>\n",
       "    </tr>\n",
       "  </tbody>\n",
       "</table>\n",
       "</div>"
      ],
      "text/plain": [
       "     Id      SalePrice\n",
       "0  2658  119571.154787\n",
       "1  2718  123165.578312"
      ]
     },
     "execution_count": 60,
     "metadata": {},
     "output_type": "execute_result"
    }
   ],
   "source": [
    "subf1.rename(columns={'id' : 'Id'}, inplace=True) # update columns\n",
    "subf1.head(2) #confirm change"
   ]
  },
  {
   "cell_type": "code",
   "execution_count": 61,
   "metadata": {},
   "outputs": [],
   "source": [
    "subf1.to_csv('../datasets/submissions/final_1.csv', index = False) # saved"
   ]
  },
  {
   "cell_type": "markdown",
   "metadata": {},
   "source": [
    "#### Categorical Score Summary\n",
    "- `train R2 score`: 0.6578429575225204\n",
    "- `test R2 score`: 0.5762651698596276\n",
    "- `cross val score`: 0.6163932809393643\n",
    "- `R2 Score (without split)`: 0.6455431466231798\n",
    "- `RMSE Train/Split score`: 46848.294477176525\n",
    "- `RMSE on full features`: 47592.55017675726\n",
    "\n",
    "#### Conclusions:\n",
    "Our training set is definitely overfit, with the cross val and test scores showing .03-.04 difference implies our model has higher variance (test and crossval lower than our training score). \n",
    "\n",
    "We will proceed to now test numerical features."
   ]
  },
  {
   "cell_type": "markdown",
   "metadata": {},
   "source": [
    "## Numerical \n",
    "* [Score Summary](#Numercal-Score-Summary)"
   ]
  },
  {
   "cell_type": "code",
   "execution_count": 62,
   "metadata": {},
   "outputs": [],
   "source": [
    "testnm = testdf[tnum_feats] # we will want fresh dataframes with our numerical features selected\n",
    "numtrain = train[num_feats] # we will want fresh dataframes with our numerical features selected"
   ]
  },
  {
   "cell_type": "code",
   "execution_count": null,
   "metadata": {},
   "outputs": [],
   "source": []
  },
  {
   "cell_type": "markdown",
   "metadata": {},
   "source": [
    "##### Cleaning"
   ]
  },
  {
   "cell_type": "code",
   "execution_count": 63,
   "metadata": {},
   "outputs": [
    {
     "data": {
      "text/plain": [
       "id                  int64\n",
       "overall qual        int64\n",
       "overall qual        int64\n",
       "bsmt full bath    float64\n",
       "bsmt half bath    float64\n",
       "full bath           int64\n",
       "half bath           int64\n",
       "bedroom abvgr       int64\n",
       "kitchen abvgr       int64\n",
       "totrms abvgrd       int64\n",
       "garage cars       float64\n",
       "saleprice           int64\n",
       "dtype: object"
      ]
     },
     "execution_count": 63,
     "metadata": {},
     "output_type": "execute_result"
    }
   ],
   "source": [
    "numtrain.dtypes"
   ]
  },
  {
   "cell_type": "code",
   "execution_count": 64,
   "metadata": {},
   "outputs": [
    {
     "data": {
      "text/plain": [
       "id                0\n",
       "overall qual      0\n",
       "overall qual      0\n",
       "bsmt full bath    2\n",
       "bsmt half bath    2\n",
       "full bath         0\n",
       "half bath         0\n",
       "bedroom abvgr     0\n",
       "kitchen abvgr     0\n",
       "totrms abvgrd     0\n",
       "garage cars       1\n",
       "saleprice         0\n",
       "dtype: int64"
      ]
     },
     "execution_count": 64,
     "metadata": {},
     "output_type": "execute_result"
    }
   ],
   "source": [
    "numtrain.isnull().sum()"
   ]
  },
  {
   "cell_type": "code",
   "execution_count": 65,
   "metadata": {},
   "outputs": [
    {
     "data": {
      "text/plain": [
       "0       0.0\n",
       "1351    0.0\n",
       "1350    0.0\n",
       "1349    0.0\n",
       "1348    0.0\n",
       "       ... \n",
       "761     2.0\n",
       "1137    2.0\n",
       "1519    2.0\n",
       "616     NaN\n",
       "1327    NaN\n",
       "Name: bsmt half bath, Length: 2047, dtype: float64"
      ]
     },
     "execution_count": 65,
     "metadata": {},
     "output_type": "execute_result"
    }
   ],
   "source": [
    "#we ranv sortvalues to identify nans in each category\n",
    "numtrain['garage cars'].sort_values()  # NaN [1712,0]\n",
    "numtrain['bsmt full bath'].sort_values() # NaN [616,0] [1327,0]\n",
    "numtrain['bsmt half bath'].sort_values() # NaN [616,0] [1327,0]\n",
    "\n",
    "# 2 values total, 2 rows. Verifying column types and header ew see that\n",
    "# these are capturing a quantity. Compared to `Garage Area` and found there is no garage\n",
    "# same with basement baths"
   ]
  },
  {
   "cell_type": "code",
   "execution_count": 66,
   "metadata": {
    "scrolled": true
   },
   "outputs": [
    {
     "name": "stderr",
     "output_type": "stream",
     "text": [
      "/Users/yvir/opt/anaconda3/lib/python3.7/site-packages/ipykernel_launcher.py:5: SettingWithCopyWarning: \n",
      "A value is trying to be set on a copy of a slice from a DataFrame.\n",
      "Try using .loc[row_indexer,col_indexer] = value instead\n",
      "\n",
      "See the caveats in the documentation: https://pandas.pydata.org/pandas-docs/stable/user_guide/indexing.html#returning-a-view-versus-a-copy\n",
      "  \"\"\"\n",
      "/Users/yvir/opt/anaconda3/lib/python3.7/site-packages/ipykernel_launcher.py:6: SettingWithCopyWarning: \n",
      "A value is trying to be set on a copy of a slice from a DataFrame.\n",
      "Try using .loc[row_indexer,col_indexer] = value instead\n",
      "\n",
      "See the caveats in the documentation: https://pandas.pydata.org/pandas-docs/stable/user_guide/indexing.html#returning-a-view-versus-a-copy\n",
      "  \n",
      "/Users/yvir/opt/anaconda3/lib/python3.7/site-packages/ipykernel_launcher.py:7: SettingWithCopyWarning: \n",
      "A value is trying to be set on a copy of a slice from a DataFrame.\n",
      "Try using .loc[row_indexer,col_indexer] = value instead\n",
      "\n",
      "See the caveats in the documentation: https://pandas.pydata.org/pandas-docs/stable/user_guide/indexing.html#returning-a-view-versus-a-copy\n",
      "  import sys\n"
     ]
    }
   ],
   "source": [
    "#updating nans in our numericals, placing a 0 as we've confirmed \n",
    "## these were blanks that should have been entered as 0\n",
    "## external review of the csv direct assisted in confirm the above cells\n",
    "## as well\n",
    "numtrain['garage cars'] = numtrain['garage cars'].fillna(value = float(0))\n",
    "numtrain['bsmt full bath'] = numtrain['bsmt full bath'].fillna(value = float(0))\n",
    "numtrain['bsmt half bath'] = numtrain['bsmt half bath'].fillna(value = float(0))"
   ]
  },
  {
   "cell_type": "code",
   "execution_count": 67,
   "metadata": {
    "scrolled": true
   },
   "outputs": [
    {
     "data": {
      "text/plain": [
       "id                0\n",
       "overall qual      0\n",
       "overall qual      0\n",
       "bsmt full bath    0\n",
       "bsmt half bath    0\n",
       "full bath         0\n",
       "half bath         0\n",
       "bedroom abvgr     0\n",
       "kitchen abvgr     0\n",
       "totrms abvgrd     0\n",
       "garage cars       0\n",
       "saleprice         0\n",
       "dtype: int64"
      ]
     },
     "execution_count": 67,
     "metadata": {},
     "output_type": "execute_result"
    }
   ],
   "source": [
    "numtrain.isnull().sum() # nans resolved!"
   ]
  },
  {
   "cell_type": "code",
   "execution_count": 68,
   "metadata": {},
   "outputs": [],
   "source": [
    "numtrain = numtrain.loc[:,~numtrain.columns.duplicated()]\n",
    "testnm = testnm.loc[:,~testnm.columns.duplicated()]\n",
    "## duplicate column code and understanding learned from\n",
    "### https://www.interviewqs.com/ddi_code_snippets/remove_duplicate_cols"
   ]
  },
  {
   "cell_type": "markdown",
   "metadata": {},
   "source": [
    "##### Fitting"
   ]
  },
  {
   "cell_type": "code",
   "execution_count": 69,
   "metadata": {},
   "outputs": [],
   "source": [
    "X = numtrain.drop(columns = ['id', 'saleprice'])\n",
    "Y = numtrain['saleprice']\n",
    "Xt = testnm.drop(columns = ['id'])"
   ]
  },
  {
   "cell_type": "code",
   "execution_count": 70,
   "metadata": {
    "scrolled": true
   },
   "outputs": [
    {
     "name": "stdout",
     "output_type": "stream",
     "text": [
      "(2047, 9)\n",
      "(2047,)\n",
      "(878, 9)\n"
     ]
    }
   ],
   "source": [
    "print(X.shape) # Numerical feature set\n",
    "print(y.shape) # Numerical target\n",
    "print(Xt.shape) # Numerical Test\n",
    "## looks good!"
   ]
  },
  {
   "cell_type": "code",
   "execution_count": 71,
   "metadata": {},
   "outputs": [],
   "source": [
    "# train test split our data\n",
    "X_train, X_test, y_train, y_test = train_test_split(X, y, random_state = 42) #we'll leave the defaul 75/25 split"
   ]
  },
  {
   "cell_type": "code",
   "execution_count": 72,
   "metadata": {},
   "outputs": [
    {
     "name": "stdout",
     "output_type": "stream",
     "text": [
      "(1535, 9)\n",
      "(1535,)\n"
     ]
    }
   ],
   "source": [
    "print(X_train.shape)\n",
    "print(y_train.shape)\n",
    "## shapes look good!"
   ]
  },
  {
   "cell_type": "code",
   "execution_count": 73,
   "metadata": {},
   "outputs": [],
   "source": [
    "# instantiate the model\n",
    "lr = LinearRegression()"
   ]
  },
  {
   "cell_type": "code",
   "execution_count": 74,
   "metadata": {},
   "outputs": [
    {
     "data": {
      "text/plain": [
       "0.7464907120547879"
      ]
     },
     "execution_count": 74,
     "metadata": {},
     "output_type": "execute_result"
    }
   ],
   "source": [
    "# check cross_val_score\n",
    "cross_val_score(lr, X_train, y_train, cv=5).mean()"
   ]
  },
  {
   "cell_type": "code",
   "execution_count": 75,
   "metadata": {},
   "outputs": [],
   "source": [
    "#fit the model\n",
    "lr.fit(X_train, y_train);"
   ]
  },
  {
   "cell_type": "markdown",
   "metadata": {},
   "source": [
    "##### Scoring"
   ]
  },
  {
   "cell_type": "code",
   "execution_count": 76,
   "metadata": {},
   "outputs": [
    {
     "name": "stdout",
     "output_type": "stream",
     "text": [
      "train score 0.7553817990521428\n",
      "test score 0.7636609305004238\n",
      "cross val score 0.7464907120547879\n"
     ]
    }
   ],
   "source": [
    "#pulled from flex review files for ease of score tracking\n",
    "print('train score', lr.score(X_train, y_train))\n",
    "\n",
    "print('test score', lr.score(X_test, y_test))\n",
    "\n",
    "print('cross val score', cross_val_score(lr, X_train, y_train, cv =5).mean())"
   ]
  },
  {
   "cell_type": "code",
   "execution_count": 77,
   "metadata": {},
   "outputs": [],
   "source": [
    "splitpreds = lr.predict(X_train) # set up MRSE for split data\n",
    "fullpreds = lr.predict(X) # set up MRSE for full Numerical feature\n",
    "preds = lr.predict(Xt) # set up predictions for test set"
   ]
  },
  {
   "cell_type": "code",
   "execution_count": 78,
   "metadata": {},
   "outputs": [
    {
     "data": {
      "text/plain": [
       "0.7576575430618783"
      ]
     },
     "execution_count": 78,
     "metadata": {},
     "output_type": "execute_result"
    }
   ],
   "source": [
    "lr.score(X, y) #check our scikit r2"
   ]
  },
  {
   "cell_type": "code",
   "execution_count": 79,
   "metadata": {
    "scrolled": true
   },
   "outputs": [
    {
     "name": "stdout",
     "output_type": "stream",
     "text": [
      "Split/Train MRSE: 38611.440491748916\n",
      "Numerical Feature MRSE: 39003.28692496293\n"
     ]
    }
   ],
   "source": [
    "print(f'Split/Train MRSE: {np.sqrt(metrics.mean_squared_error(y_train, splitpreds))}')\n",
    "print(f'Numerical Feature MRSE: {np.sqrt(metrics.mean_squared_error(y, fullpreds))}')\n"
   ]
  },
  {
   "cell_type": "code",
   "execution_count": 80,
   "metadata": {},
   "outputs": [],
   "source": [
    "subf2 = testdf # set up our df for submission using our cleaned testdf"
   ]
  },
  {
   "cell_type": "code",
   "execution_count": 81,
   "metadata": {},
   "outputs": [],
   "source": [
    "preds = lr.predict(Xt) #build our predictions"
   ]
  },
  {
   "cell_type": "code",
   "execution_count": 82,
   "metadata": {},
   "outputs": [],
   "source": [
    "subf2['SalePrice'] = preds "
   ]
  },
  {
   "cell_type": "code",
   "execution_count": 83,
   "metadata": {},
   "outputs": [],
   "source": [
    "subf2 = subf2[['id', 'SalePrice']].copy() #copy columns"
   ]
  },
  {
   "cell_type": "code",
   "execution_count": 84,
   "metadata": {},
   "outputs": [],
   "source": [
    "subf2.rename(columns={'id' : 'Id'}, inplace=True) # update column Id's"
   ]
  },
  {
   "cell_type": "code",
   "execution_count": 85,
   "metadata": {},
   "outputs": [
    {
     "data": {
      "text/html": [
       "<div>\n",
       "<style scoped>\n",
       "    .dataframe tbody tr th:only-of-type {\n",
       "        vertical-align: middle;\n",
       "    }\n",
       "\n",
       "    .dataframe tbody tr th {\n",
       "        vertical-align: top;\n",
       "    }\n",
       "\n",
       "    .dataframe thead th {\n",
       "        text-align: right;\n",
       "    }\n",
       "</style>\n",
       "<table border=\"1\" class=\"dataframe\">\n",
       "  <thead>\n",
       "    <tr style=\"text-align: right;\">\n",
       "      <th></th>\n",
       "      <th>Id</th>\n",
       "      <th>SalePrice</th>\n",
       "    </tr>\n",
       "  </thead>\n",
       "  <tbody>\n",
       "    <tr>\n",
       "      <th>0</th>\n",
       "      <td>2658</td>\n",
       "      <td>148833.293653</td>\n",
       "    </tr>\n",
       "    <tr>\n",
       "      <th>1</th>\n",
       "      <td>2718</td>\n",
       "      <td>142520.926818</td>\n",
       "    </tr>\n",
       "  </tbody>\n",
       "</table>\n",
       "</div>"
      ],
      "text/plain": [
       "     Id      SalePrice\n",
       "0  2658  148833.293653\n",
       "1  2718  142520.926818"
      ]
     },
     "execution_count": 85,
     "metadata": {},
     "output_type": "execute_result"
    }
   ],
   "source": [
    "subf2.head(2) #verify"
   ]
  },
  {
   "cell_type": "code",
   "execution_count": 86,
   "metadata": {},
   "outputs": [],
   "source": [
    "subf2.to_csv('../datasets/submissions/final_2.csv', index = False)"
   ]
  },
  {
   "cell_type": "markdown",
   "metadata": {},
   "source": [
    "#### Numercal Score Summary\n",
    "- `train R2 score`: 0.7553817990521428\n",
    "- `test R2 score`: 0.7636609305004238\n",
    "- `cross val score`: 0.7464907120547879\n",
    "- `R2 Score (without split)`: 0.7576575430618783\n",
    "- `RMSE Train/Split score`: 38611.440491748916\n",
    "- `RMSE on full features`: 39003.28692496293\n",
    "\n",
    "#### Conclusions:\n",
    "Numerical columns definitely had a stronger R2 score, the change in test r2 vs cross-val(cv) implies we may be underfit, but with low variance. It's certainly our better model so far"
   ]
  },
  {
   "cell_type": "markdown",
   "metadata": {},
   "source": [
    "## Scaled Numerics\n",
    "* [Score Summary](#Scaled-Score-Summary)"
   ]
  },
  {
   "cell_type": "code",
   "execution_count": 87,
   "metadata": {},
   "outputs": [],
   "source": [
    "sqtrain = train[sq_feats]   \n",
    "testsq = testdf[tsq_feats]"
   ]
  },
  {
   "cell_type": "markdown",
   "metadata": {},
   "source": [
    "##### Cleaning"
   ]
  },
  {
   "cell_type": "code",
   "execution_count": 88,
   "metadata": {},
   "outputs": [
    {
     "data": {
      "text/plain": [
       "id                 int64\n",
       "lot area           int64\n",
       "bsmtfin sf 1     float64\n",
       "bsmtfin sf 2     float64\n",
       "bsmt unf sf      float64\n",
       "total bsmt sf    float64\n",
       "1st flr sf         int64\n",
       "gr liv area        int64\n",
       "garage area      float64\n",
       "open porch sf      int64\n",
       "wood deck sf       int64\n",
       "saleprice          int64\n",
       "dtype: object"
      ]
     },
     "execution_count": 88,
     "metadata": {},
     "output_type": "execute_result"
    }
   ],
   "source": [
    "sqtrain.dtypes #dtypes look good"
   ]
  },
  {
   "cell_type": "code",
   "execution_count": 89,
   "metadata": {},
   "outputs": [
    {
     "data": {
      "text/plain": [
       "id               0\n",
       "lot area         0\n",
       "bsmtfin sf 1     1\n",
       "bsmtfin sf 2     1\n",
       "bsmt unf sf      1\n",
       "total bsmt sf    1\n",
       "1st flr sf       0\n",
       "gr liv area      0\n",
       "garage area      1\n",
       "open porch sf    0\n",
       "wood deck sf     0\n",
       "saleprice        0\n",
       "dtype: int64"
      ]
     },
     "execution_count": 89,
     "metadata": {},
     "output_type": "execute_result"
    }
   ],
   "source": [
    "#testsq.isnull().sum() already know we have 0 nulls\n",
    "sqtrain.isnull().sum()"
   ]
  },
  {
   "cell_type": "code",
   "execution_count": 90,
   "metadata": {},
   "outputs": [
    {
     "data": {
      "text/plain": [
       "663        0.0\n",
       "689        0.0\n",
       "1519       0.0\n",
       "260        0.0\n",
       "1528       0.0\n",
       "         ...  \n",
       "1293    1314.0\n",
       "1158    1348.0\n",
       "337     1356.0\n",
       "960     1418.0\n",
       "1712       NaN\n",
       "Name: garage area, Length: 2047, dtype: float64"
      ]
     },
     "execution_count": 90,
     "metadata": {},
     "output_type": "execute_result"
    }
   ],
   "source": [
    "sqtrain['bsmtfin sf 1'].sort_values() #nan confirmed  [1327,0]\n",
    "sqtrain['bsmtfin sf 2'].sort_values() #nan confirmed  [1327,0]\n",
    "sqtrain['bsmt unf sf'].sort_values() #nan confirmed   [1327,0]\n",
    "sqtrain['total bsmt sf'].sort_values() #nan confirmed [1327,0]\n",
    "sqtrain['garage area'].sort_values() #nan confirmed   [1712,0]\n",
    "# So two rows total"
   ]
  },
  {
   "cell_type": "code",
   "execution_count": 91,
   "metadata": {},
   "outputs": [
    {
     "data": {
      "text/plain": [
       "45        0\n",
       "29        0\n",
       "591       0\n",
       "152       0\n",
       "337       0\n",
       "       ... \n",
       "238    1134\n",
       "422    1200\n",
       "399    1248\n",
       "85     1390\n",
       "580    1488\n",
       "Name: garage area, Length: 878, dtype: int64"
      ]
     },
     "execution_count": 91,
     "metadata": {},
     "output_type": "execute_result"
    }
   ],
   "source": [
    "testsq['bsmtfin sf 1'].sort_values() #nan confirmed 0\n",
    "testsq['bsmtfin sf 2'].sort_values() #nan confirmed 0\n",
    "testsq['bsmt unf sf'].sort_values() #nan confirmed 0 \n",
    "testsq['total bsmt sf'].sort_values() #nan confirmed 0\n",
    "testsq['garage area'].sort_values() #nan confirme 0"
   ]
  },
  {
   "cell_type": "code",
   "execution_count": 92,
   "metadata": {},
   "outputs": [
    {
     "name": "stderr",
     "output_type": "stream",
     "text": [
      "/Users/yvir/opt/anaconda3/lib/python3.7/site-packages/pandas/core/generic.py:6245: SettingWithCopyWarning: \n",
      "A value is trying to be set on a copy of a slice from a DataFrame\n",
      "\n",
      "See the caveats in the documentation: https://pandas.pydata.org/pandas-docs/stable/user_guide/indexing.html#returning-a-view-versus-a-copy\n",
      "  self._update_inplace(new_data)\n"
     ]
    }
   ],
   "source": [
    "#single value entries with no basement or garage, we will place sf to 0\n",
    "sqtrain['bsmtfin sf 1'].fillna(value = 0, inplace = True)\n",
    "sqtrain['bsmtfin sf 2'].fillna(value = 0, inplace = True)\n",
    "sqtrain['total bsmt sf'].fillna(value = 0, inplace = True)\n",
    "sqtrain['bsmt unf sf'].fillna(value = 0, inplace = True)\n",
    "sqtrain['garage area'].fillna(value = 0, inplace = True)"
   ]
  },
  {
   "cell_type": "code",
   "execution_count": 93,
   "metadata": {},
   "outputs": [
    {
     "data": {
      "text/plain": [
       "id               0\n",
       "lot area         0\n",
       "bsmtfin sf 1     0\n",
       "bsmtfin sf 2     0\n",
       "bsmt unf sf      0\n",
       "total bsmt sf    0\n",
       "1st flr sf       0\n",
       "gr liv area      0\n",
       "garage area      0\n",
       "open porch sf    0\n",
       "wood deck sf     0\n",
       "saleprice        0\n",
       "dtype: int64"
      ]
     },
     "execution_count": 93,
     "metadata": {},
     "output_type": "execute_result"
    }
   ],
   "source": [
    "sqtrain.isna().sum()"
   ]
  },
  {
   "cell_type": "markdown",
   "metadata": {},
   "source": [
    "##### Fitting"
   ]
  },
  {
   "cell_type": "code",
   "execution_count": 94,
   "metadata": {},
   "outputs": [],
   "source": [
    "X = sqtrain.drop(columns = ['id', 'saleprice'])\n",
    "y = sqtrain['saleprice'] \n",
    "Xt = testsq.drop(columns = ['id'])"
   ]
  },
  {
   "cell_type": "code",
   "execution_count": 95,
   "metadata": {},
   "outputs": [
    {
     "name": "stdout",
     "output_type": "stream",
     "text": [
      "(2047, 10)\n",
      "(2047,)\n",
      "(878, 10)\n"
     ]
    }
   ],
   "source": [
    "print(X.shape)\n",
    "print(y.shape)\n",
    "print(Xt.shape)"
   ]
  },
  {
   "cell_type": "code",
   "execution_count": 96,
   "metadata": {},
   "outputs": [],
   "source": [
    "X_train, X_test, y_train, y_test = train_test_split(X, y, random_state = 42) #we'll leave the defaul 75/25 split"
   ]
  },
  {
   "cell_type": "code",
   "execution_count": 97,
   "metadata": {},
   "outputs": [],
   "source": [
    "ss = StandardScaler() # instantiate our transformer"
   ]
  },
  {
   "cell_type": "code",
   "execution_count": 98,
   "metadata": {},
   "outputs": [],
   "source": [
    "ss.fit(X_train) #fit our training features\n",
    "Z = ss.fit_transform(X) #fit our full features\n",
    "Z_train = ss.fit_transform(X_train) #transform \n",
    "Z_test = ss.fit_transform(X_test)\n",
    "Zt = ss.fit_transform(Xt)"
   ]
  },
  {
   "cell_type": "code",
   "execution_count": 99,
   "metadata": {},
   "outputs": [
    {
     "data": {
      "text/plain": [
       "0.6343842153582736"
      ]
     },
     "execution_count": 99,
     "metadata": {},
     "output_type": "execute_result"
    }
   ],
   "source": [
    "# instantiate the model\n",
    "lr = LinearRegression()\n",
    "# check cross_val_score\n",
    "cross_val_score(lr, Z_train, y_train, cv=5).mean()"
   ]
  },
  {
   "cell_type": "code",
   "execution_count": 100,
   "metadata": {},
   "outputs": [],
   "source": [
    "#fit the model\n",
    "lr.fit(Z_train, y_train);"
   ]
  },
  {
   "cell_type": "markdown",
   "metadata": {},
   "source": [
    "##### Scoring"
   ]
  },
  {
   "cell_type": "code",
   "execution_count": 101,
   "metadata": {},
   "outputs": [
    {
     "name": "stdout",
     "output_type": "stream",
     "text": [
      "train score 0.6723902525839343\n",
      "test score 0.7294544670268371\n",
      "cross val score 0.6343842153582736\n"
     ]
    }
   ],
   "source": [
    "#pulled from flex review files for ease of score tracking\n",
    "print('train score', lr.score(Z_train, y_train))\n",
    "\n",
    "print('test score', lr.score(Z_test, y_test))\n",
    "\n",
    "print('cross val score', cross_val_score(lr, Z_train, y_train, cv =5).mean())"
   ]
  },
  {
   "cell_type": "code",
   "execution_count": 102,
   "metadata": {},
   "outputs": [],
   "source": [
    "trainpreds = lr.predict(Z_train)"
   ]
  },
  {
   "cell_type": "code",
   "execution_count": 103,
   "metadata": {},
   "outputs": [],
   "source": [
    "realpred = lr.predict(Z)"
   ]
  },
  {
   "cell_type": "code",
   "execution_count": 104,
   "metadata": {},
   "outputs": [
    {
     "name": "stdout",
     "output_type": "stream",
     "text": [
      "Split/Train MRSE: 44683.792650829135\n",
      "Square Feature MRSE: 44338.90383859943\n"
     ]
    }
   ],
   "source": [
    "print(f'Split/Train MRSE: {np.sqrt(metrics.mean_squared_error(y_train, trainpreds))}')\n",
    "print(f'Square Feature MRSE: {np.sqrt(metrics.mean_squared_error(y, realpred))}')"
   ]
  },
  {
   "cell_type": "code",
   "execution_count": 105,
   "metadata": {},
   "outputs": [
    {
     "data": {
      "text/plain": [
       "0.6887855968651643"
      ]
     },
     "execution_count": 105,
     "metadata": {},
     "output_type": "execute_result"
    }
   ],
   "source": [
    "## no split\n",
    "lr2 = LinearRegression()\n",
    "lr2.fit(Z, y)\n",
    "lr2.score(Z, y)"
   ]
  },
  {
   "cell_type": "code",
   "execution_count": 106,
   "metadata": {},
   "outputs": [],
   "source": [
    "## we will not output this to csv with the poorer score"
   ]
  },
  {
   "cell_type": "markdown",
   "metadata": {},
   "source": [
    "##### Scaled Score Summary\n",
    "- `train R2 score`: 0.6723902525839343\n",
    "- `test R2 score`: 0.7294544670268371\n",
    "- `cross val score`: 0.634384215358273\n",
    "- `R2 Score (without split)`: 0.6887855968651643\n",
    "- `RMSE Train/Split score`: 44683.792650829135\n",
    "- `RMSE on full features`: 44338.90383859943\n",
    "\n",
    "\n",
    "#### Conclusions:\n",
    "Adding our scaled data revelead a high variance with the increase in test R2 score. CV scoring implies there may have been some data imbalance with train/split.\n",
    "<br><br> Our overal r2 sits at a lower .67 with RMSE rising higher than the numericals.\n",
    "\n"
   ]
  },
  {
   "cell_type": "markdown",
   "metadata": {},
   "source": [
    "# Data Visualization"
   ]
  },
  {
   "cell_type": "code",
   "execution_count": 107,
   "metadata": {},
   "outputs": [],
   "source": [
    "#several heatmaps of null values for each category and one overall"
   ]
  },
  {
   "cell_type": "code",
   "execution_count": 108,
   "metadata": {
    "scrolled": true
   },
   "outputs": [
    {
     "data": {
      "text/plain": [
       "<matplotlib.axes._subplots.AxesSubplot at 0x1a1be20f50>"
      ]
     },
     "execution_count": 108,
     "metadata": {},
     "output_type": "execute_result"
    },
    {
     "data": {
      "image/png": "[encoded data removed]",
      "text/plain": [
       "<Figure size 432x288 with 1 Axes>"
      ]
     },
     "metadata": {
      "needs_background": "light"
     },
     "output_type": "display_data"
    }
   ],
   "source": [
    "sns.heatmap(train.isnull(), cbar=False)"
   ]
  },
  {
   "cell_type": "code",
   "execution_count": 170,
   "metadata": {
    "scrolled": true
   },
   "outputs": [
    {
     "data": {
      "image/png": "[encoded data removed]",
      "text/plain": [
       "<Figure size 432x288 with 1 Axes>"
      ]
     },
     "metadata": {
      "needs_background": "light"
     },
     "output_type": "display_data"
    }
   ],
   "source": [
    "sns.boxplot(x='alley', y = 'saleprice', data = train); \n",
    "#exploring if alleys made much a difference in sale price. \n",
    "plt.title(\"Alley-type price correlation\", fontsize = 16)\n",
    "plt.xlabel(\"Alley ownership\", fontsize = 14)\n",
    "plt.ylabel(\"Sale Price Range\", fontsize = 14);"
   ]
  },
  {
   "cell_type": "code",
   "execution_count": 110,
   "metadata": {},
   "outputs": [],
   "source": [
    "## We will look at our strongest set, numericals and check their residuals"
   ]
  },
  {
   "cell_type": "code",
   "execution_count": 111,
   "metadata": {
    "scrolled": true
   },
   "outputs": [
    {
     "name": "stdout",
     "output_type": "stream",
     "text": [
      "(2047, 9)\n",
      "(2047,)\n",
      "(878, 9)\n"
     ]
    }
   ],
   "source": [
    "X = numtrain.drop(columns = ['id', 'saleprice'])\n",
    "y = numtrain['saleprice']\n",
    "Xt = testnm.drop(columns = ['id'])\n",
    "print(X.shape) # Numerical feature set\n",
    "print(y.shape) # Numerical target\n",
    "print(Xt.shape) # Numerical Test\n",
    "## looks good!"
   ]
  },
  {
   "cell_type": "code",
   "execution_count": 112,
   "metadata": {},
   "outputs": [],
   "source": [
    "# create a new instance for building our visualization for residuals on numerical training\n",
    "X_train, X_test, y_train, y_test = train_test_split(X, y, random_state = 42)\n",
    "lr = LinearRegression()\n",
    "lr.fit(X_train, y_train); \n",
    "fullpreds = lr.predict(X) # predicts our target\n",
    "resids = y - fullpreds # residuals"
   ]
  },
  {
   "cell_type": "code",
   "execution_count": 113,
   "metadata": {
    "scrolled": true
   },
   "outputs": [
    {
     "data": {
      "text/plain": [
       "-372.6592079021997"
      ]
     },
     "execution_count": 113,
     "metadata": {},
     "output_type": "execute_result"
    }
   ],
   "source": [
    "np.mean(resids) #not looking very good"
   ]
  },
  {
   "cell_type": "code",
   "execution_count": 114,
   "metadata": {
    "scrolled": true
   },
   "outputs": [
    {
     "data": {
      "image/png": "[encoded data removed]",
      "text/plain": [
       "<Figure size 432x288 with 1 Axes>"
      ]
     },
     "metadata": {
      "needs_background": "light"
     },
     "output_type": "display_data"
    }
   ],
   "source": [
    "plt.hist(resids, bins=20);"
   ]
  },
  {
   "cell_type": "code",
   "execution_count": 115,
   "metadata": {},
   "outputs": [],
   "source": [
    "# data appears to have a minor enough skews however,\n",
    "## the residuals are massive for resids that we are looking to be close to 0"
   ]
  },
  {
   "cell_type": "code",
   "execution_count": 166,
   "metadata": {},
   "outputs": [
    {
     "data": {
      "image/png": "[encoded data removed]",
      "text/plain": [
       "<Figure size 432x288 with 1 Axes>"
      ]
     },
     "metadata": {
      "needs_background": "light"
     },
     "output_type": "display_data"
    }
   ],
   "source": [
    "plt.scatter(fullpreds, resids)\n",
    "plt.axhline(0, color = 'red');\n",
    "plt.title(\"Model Error Plot\", fontsize = 20)\n",
    "plt.xlabel(\"Predicted Price\", fontsize = 18)\n",
    "plt.ylabel(\"Residuals\", fontsize = 18);"
   ]
  },
  {
   "cell_type": "code",
   "execution_count": 117,
   "metadata": {},
   "outputs": [],
   "source": [
    "# Again, a majority of our resids sit below 0."
   ]
  },
  {
   "cell_type": "code",
   "execution_count": null,
   "metadata": {},
   "outputs": [],
   "source": []
  },
  {
   "cell_type": "code",
   "execution_count": 147,
   "metadata": {},
   "outputs": [],
   "source": [
    "features = ['overall qual', 'bsmt full bath', 'bsmt half bath', 'full bath',\n",
    "       'half bath', 'bedroom abvgr', 'kitchen abvgr', 'totrms abvgrd',\n",
    "       'garage cars']"
   ]
  },
  {
   "cell_type": "code",
   "execution_count": 171,
   "metadata": {},
   "outputs": [
    {
     "data": {
      "image/png": "[encoded data removed]",
      "text/plain": [
       "<Figure size 1152x720 with 1 Axes>"
      ]
     },
     "metadata": {
      "needs_background": "light"
     },
     "output_type": "display_data"
    }
   ],
   "source": [
    "pd.Series(lr.coef_, index=features).plot.bar(figsize=(16, 10))\n",
    "plt.title(\"Coefficient Values\", fontsize = 22)\n",
    "plt.xlabel(\"Top Correlating Features\", fontsize = 22)\n",
    "plt.ylabel(\"Sale Price Range\", fontsize = 25);"
   ]
  },
  {
   "cell_type": "code",
   "execution_count": null,
   "metadata": {},
   "outputs": [],
   "source": []
  },
  {
   "cell_type": "code",
   "execution_count": 118,
   "metadata": {},
   "outputs": [
    {
     "data": {
      "text/html": [
       "<div>\n",
       "<style scoped>\n",
       "    .dataframe tbody tr th:only-of-type {\n",
       "        vertical-align: middle;\n",
       "    }\n",
       "\n",
       "    .dataframe tbody tr th {\n",
       "        vertical-align: top;\n",
       "    }\n",
       "\n",
       "    .dataframe thead th {\n",
       "        text-align: right;\n",
       "    }\n",
       "</style>\n",
       "<table border=\"1\" class=\"dataframe\">\n",
       "  <thead>\n",
       "    <tr style=\"text-align: right;\">\n",
       "      <th></th>\n",
       "      <th>id</th>\n",
       "      <th>overall qual</th>\n",
       "      <th>bsmt full bath</th>\n",
       "      <th>bsmt half bath</th>\n",
       "      <th>full bath</th>\n",
       "      <th>half bath</th>\n",
       "      <th>bedroom abvgr</th>\n",
       "      <th>kitchen abvgr</th>\n",
       "      <th>totrms abvgrd</th>\n",
       "      <th>garage cars</th>\n",
       "      <th>saleprice</th>\n",
       "    </tr>\n",
       "  </thead>\n",
       "  <tbody>\n",
       "    <tr>\n",
       "      <th>id</th>\n",
       "      <td>1.000000</td>\n",
       "      <td>-0.062351</td>\n",
       "      <td>-0.032849</td>\n",
       "      <td>0.016101</td>\n",
       "      <td>-0.060286</td>\n",
       "      <td>-0.043305</td>\n",
       "      <td>0.012405</td>\n",
       "      <td>-0.002048</td>\n",
       "      <td>-0.007127</td>\n",
       "      <td>-0.048563</td>\n",
       "      <td>-0.052630</td>\n",
       "    </tr>\n",
       "    <tr>\n",
       "      <th>overall qual</th>\n",
       "      <td>-0.062351</td>\n",
       "      <td>1.000000</td>\n",
       "      <td>0.175921</td>\n",
       "      <td>-0.046891</td>\n",
       "      <td>0.515681</td>\n",
       "      <td>0.275060</td>\n",
       "      <td>0.054466</td>\n",
       "      <td>-0.170895</td>\n",
       "      <td>0.382886</td>\n",
       "      <td>0.588518</td>\n",
       "      <td>0.800443</td>\n",
       "    </tr>\n",
       "    <tr>\n",
       "      <th>bsmt full bath</th>\n",
       "      <td>-0.032849</td>\n",
       "      <td>0.175921</td>\n",
       "      <td>1.000000</td>\n",
       "      <td>-0.145836</td>\n",
       "      <td>-0.010641</td>\n",
       "      <td>-0.026947</td>\n",
       "      <td>-0.158530</td>\n",
       "      <td>-0.029462</td>\n",
       "      <td>-0.040142</td>\n",
       "      <td>0.174361</td>\n",
       "      <td>0.282662</td>\n",
       "    </tr>\n",
       "    <tr>\n",
       "      <th>bsmt half bath</th>\n",
       "      <td>0.016101</td>\n",
       "      <td>-0.046891</td>\n",
       "      <td>-0.145836</td>\n",
       "      <td>1.000000</td>\n",
       "      <td>-0.058451</td>\n",
       "      <td>-0.045990</td>\n",
       "      <td>0.011880</td>\n",
       "      <td>-0.079255</td>\n",
       "      <td>-0.055483</td>\n",
       "      <td>-0.033414</td>\n",
       "      <td>-0.044248</td>\n",
       "    </tr>\n",
       "    <tr>\n",
       "      <th>full bath</th>\n",
       "      <td>-0.060286</td>\n",
       "      <td>0.515681</td>\n",
       "      <td>-0.010641</td>\n",
       "      <td>-0.058451</td>\n",
       "      <td>1.000000</td>\n",
       "      <td>0.154014</td>\n",
       "      <td>0.344185</td>\n",
       "      <td>0.166027</td>\n",
       "      <td>0.520805</td>\n",
       "      <td>0.466477</td>\n",
       "      <td>0.539667</td>\n",
       "    </tr>\n",
       "    <tr>\n",
       "      <th>half bath</th>\n",
       "      <td>-0.043305</td>\n",
       "      <td>0.275060</td>\n",
       "      <td>-0.026947</td>\n",
       "      <td>-0.045990</td>\n",
       "      <td>0.154014</td>\n",
       "      <td>1.000000</td>\n",
       "      <td>0.232504</td>\n",
       "      <td>-0.040089</td>\n",
       "      <td>0.341140</td>\n",
       "      <td>0.232926</td>\n",
       "      <td>0.282821</td>\n",
       "    </tr>\n",
       "    <tr>\n",
       "      <th>bedroom abvgr</th>\n",
       "      <td>0.012405</td>\n",
       "      <td>0.054466</td>\n",
       "      <td>-0.158530</td>\n",
       "      <td>0.011880</td>\n",
       "      <td>0.344185</td>\n",
       "      <td>0.232504</td>\n",
       "      <td>1.000000</td>\n",
       "      <td>0.227267</td>\n",
       "      <td>0.655431</td>\n",
       "      <td>0.084098</td>\n",
       "      <td>0.139876</td>\n",
       "    </tr>\n",
       "    <tr>\n",
       "      <th>kitchen abvgr</th>\n",
       "      <td>-0.002048</td>\n",
       "      <td>-0.170895</td>\n",
       "      <td>-0.029462</td>\n",
       "      <td>-0.079255</td>\n",
       "      <td>0.166027</td>\n",
       "      <td>-0.040089</td>\n",
       "      <td>0.227267</td>\n",
       "      <td>1.000000</td>\n",
       "      <td>0.276615</td>\n",
       "      <td>-0.034383</td>\n",
       "      <td>-0.125450</td>\n",
       "    </tr>\n",
       "    <tr>\n",
       "      <th>totrms abvgrd</th>\n",
       "      <td>-0.007127</td>\n",
       "      <td>0.382886</td>\n",
       "      <td>-0.040142</td>\n",
       "      <td>-0.055483</td>\n",
       "      <td>0.520805</td>\n",
       "      <td>0.341140</td>\n",
       "      <td>0.655431</td>\n",
       "      <td>0.276615</td>\n",
       "      <td>1.000000</td>\n",
       "      <td>0.367468</td>\n",
       "      <td>0.505864</td>\n",
       "    </tr>\n",
       "    <tr>\n",
       "      <th>garage cars</th>\n",
       "      <td>-0.048563</td>\n",
       "      <td>0.588518</td>\n",
       "      <td>0.174361</td>\n",
       "      <td>-0.033414</td>\n",
       "      <td>0.466477</td>\n",
       "      <td>0.232926</td>\n",
       "      <td>0.084098</td>\n",
       "      <td>-0.034383</td>\n",
       "      <td>0.367468</td>\n",
       "      <td>1.000000</td>\n",
       "      <td>0.650239</td>\n",
       "    </tr>\n",
       "    <tr>\n",
       "      <th>saleprice</th>\n",
       "      <td>-0.052630</td>\n",
       "      <td>0.800443</td>\n",
       "      <td>0.282662</td>\n",
       "      <td>-0.044248</td>\n",
       "      <td>0.539667</td>\n",
       "      <td>0.282821</td>\n",
       "      <td>0.139876</td>\n",
       "      <td>-0.125450</td>\n",
       "      <td>0.505864</td>\n",
       "      <td>0.650239</td>\n",
       "      <td>1.000000</td>\n",
       "    </tr>\n",
       "  </tbody>\n",
       "</table>\n",
       "</div>"
      ],
      "text/plain": [
       "                      id  overall qual  bsmt full bath  bsmt half bath  \\\n",
       "id              1.000000     -0.062351       -0.032849        0.016101   \n",
       "overall qual   -0.062351      1.000000        0.175921       -0.046891   \n",
       "bsmt full bath -0.032849      0.175921        1.000000       -0.145836   \n",
       "bsmt half bath  0.016101     -0.046891       -0.145836        1.000000   \n",
       "full bath      -0.060286      0.515681       -0.010641       -0.058451   \n",
       "half bath      -0.043305      0.275060       -0.026947       -0.045990   \n",
       "bedroom abvgr   0.012405      0.054466       -0.158530        0.011880   \n",
       "kitchen abvgr  -0.002048     -0.170895       -0.029462       -0.079255   \n",
       "totrms abvgrd  -0.007127      0.382886       -0.040142       -0.055483   \n",
       "garage cars    -0.048563      0.588518        0.174361       -0.033414   \n",
       "saleprice      -0.052630      0.800443        0.282662       -0.044248   \n",
       "\n",
       "                full bath  half bath  bedroom abvgr  kitchen abvgr  \\\n",
       "id              -0.060286  -0.043305       0.012405      -0.002048   \n",
       "overall qual     0.515681   0.275060       0.054466      -0.170895   \n",
       "bsmt full bath  -0.010641  -0.026947      -0.158530      -0.029462   \n",
       "bsmt half bath  -0.058451  -0.045990       0.011880      -0.079255   \n",
       "full bath        1.000000   0.154014       0.344185       0.166027   \n",
       "half bath        0.154014   1.000000       0.232504      -0.040089   \n",
       "bedroom abvgr    0.344185   0.232504       1.000000       0.227267   \n",
       "kitchen abvgr    0.166027  -0.040089       0.227267       1.000000   \n",
       "totrms abvgrd    0.520805   0.341140       0.655431       0.276615   \n",
       "garage cars      0.466477   0.232926       0.084098      -0.034383   \n",
       "saleprice        0.539667   0.282821       0.139876      -0.125450   \n",
       "\n",
       "                totrms abvgrd  garage cars  saleprice  \n",
       "id                  -0.007127    -0.048563  -0.052630  \n",
       "overall qual         0.382886     0.588518   0.800443  \n",
       "bsmt full bath      -0.040142     0.174361   0.282662  \n",
       "bsmt half bath      -0.055483    -0.033414  -0.044248  \n",
       "full bath            0.520805     0.466477   0.539667  \n",
       "half bath            0.341140     0.232926   0.282821  \n",
       "bedroom abvgr        0.655431     0.084098   0.139876  \n",
       "kitchen abvgr        0.276615    -0.034383  -0.125450  \n",
       "totrms abvgrd        1.000000     0.367468   0.505864  \n",
       "garage cars          0.367468     1.000000   0.650239  \n",
       "saleprice            0.505864     0.650239   1.000000  "
      ]
     },
     "execution_count": 118,
     "metadata": {},
     "output_type": "execute_result"
    }
   ],
   "source": [
    "numtrain.corr()"
   ]
  },
  {
   "cell_type": "code",
   "execution_count": 164,
   "metadata": {
    "scrolled": true
   },
   "outputs": [
    {
     "data": {
      "image/png": "[encoded data removed]",
      "text/plain": [
       "<Figure size 1152x648 with 2 Axes>"
      ]
     },
     "metadata": {
      "needs_background": "light"
     },
     "output_type": "display_data"
    }
   ],
   "source": [
    "plt.figure(figsize=(16, 9))\n",
    "sns.heatmap(numtrain.corr()[['saleprice']].sort_values('saleprice'), \n",
    "            annot = True,\n",
    "            cmap = 'coolwarm',\n",
    "            vmin = -1,\n",
    "            vmax = 1)\n",
    "plt.title(\"Numerical Feature Price Correlations\", fontsize = 20)\n",
    "plt.xlabel(\"Sale Price\", fontsize = 18)\n",
    "plt.ylabel(\"Numerical Features\", fontsize = 18);"
   ]
  },
  {
   "cell_type": "code",
   "execution_count": 161,
   "metadata": {},
   "outputs": [
    {
     "data": {
      "image/png": "[encoded data removed]",
      "text/plain": [
       "<Figure size 180x900 with 5 Axes>"
      ]
     },
     "metadata": {
      "needs_background": "light"
     },
     "output_type": "display_data"
    }
   ],
   "source": [
    "#we'll grab our top 5 correlating features\n",
    "sns.pairplot(numtrain, x_vars = 'saleprice', y_vars = ['overall qual', 'garage cars', 'full bath', 'half bath', 'bsmt full bath']);"
   ]
  },
  {
   "cell_type": "code",
   "execution_count": 121,
   "metadata": {},
   "outputs": [],
   "source": [
    "# As expected, we can see that the top 3 categories show a stronger\n",
    "## tendency and price separation based on scores"
   ]
  },
  {
   "cell_type": "code",
   "execution_count": 163,
   "metadata": {
    "scrolled": true
   },
   "outputs": [
    {
     "data": {
      "image/png": "[encoded data removed]",
      "text/plain": [
       "<Figure size 1080x1080 with 2 Axes>"
      ]
     },
     "metadata": {
      "needs_background": "light"
     },
     "output_type": "display_data"
    }
   ],
   "source": [
    "top5 = ['overall qual', 'garage cars', 'full bath', 'half bath', 'bsmt full bath', 'saleprice']\n",
    "# plot our size\n",
    "plt.figure(figsize=(15,15))\n",
    "\n",
    "corr = numtrain[top5].corr()\n",
    "\n",
    "# Set up mask to be \"True\" in the upper triangle.\n",
    "mask = np.zeros_like(corr)\n",
    "mask[np.triu_indices_from(mask)] = True\n",
    "\n",
    "# set our correlations\n",
    "sns.heatmap(corr, mask = mask, annot=True)\n",
    "\n",
    "plt.title(\"Correlations Scores\", fontsize = 20)\n",
    "plt.xlabel(\"Sale Price\", fontsize = 18)\n",
    "plt.ylabel(\"Numerical Features\", fontsize = 18);"
   ]
  },
  {
   "cell_type": "markdown",
   "metadata": {},
   "source": [
    "# External Research"
   ]
  },
  {
   "cell_type": "markdown",
   "metadata": {},
   "source": [
    "##### Solutions we can take home to ourselves:\n",
    "- Home projects can have up to a value of 10 times the installation cost on sale. \n",
    "- We can look at windows, they are cheap, boost value, and currently in demand. \n",
    " - Windows are within HoA jurisdiction with the correct authorizations. Finding aesthetic, consistent, and popular windows is an affordable option. Window price ranges from $300-$700 per window if using a window isntaller. If we find our own specialist we can cut this down to just the materials which HoA can already purchase at Contractor's bulk price from the locals.\n",
    "- Dedicated specialty rooms (gyms, theaters, pool room, etc.), while covering a small percentage of properties, tend to double in sales the national median.\n",
    "\n",
    "<br> -[Source: Features to Boost Home Value](#https://www.realtor.com/news/trends/top-15-home-features-to-boost-your-homes-value-and-sell-it-faster/) \n",
    "<br> -[Source: Features Buyers Want](#https://www.kiplinger.com/slideshow/real-estate/T010-S001-home-features-today-s-buyers-want-most/index.html)\n",
    "<br> -[Source: Remodeling Costs vs Sale](#https://www.remodeling.hw.net/cost-vs-value/2019/west-north-central/)\n",
    "<br> -[Source: HoA Window Regulations](#https://ringerwindows.com/residential-windows-hoa-programs/)\n",
    "<br> -[Scource: Typical Home Owner](#https://www.zillow.com/report/2017/homeowners/typical-american-homeowner/)"
   ]
  },
  {
   "cell_type": "markdown",
   "metadata": {},
   "source": [
    "# Conclusions and Recommendations"
   ]
  },
  {
   "cell_type": "markdown",
   "metadata": {},
   "source": [
    "Currently our model is better suited for finding correlating features rather than predict price. The features we've worked with have been documented and cleaned so we can continue assessing trends and use external data to align with features we deem valuable. <br><br>\n",
    "\n",
    "While we can maintain our current HoA regulations, our model does help us find features we can investigate on improving or adding to our own houses, increasing their individual value. <br><br>\n",
    "\n",
    "If we'd like to pursue tightening down on regulations, windows can fall under architectural replacement with the right authorizations. However, this would be costly to us and the community as a whole. As windows are trendy, we can take advantage of recyclable material trend and take installation costs down by finding a specialist from within our community network.\n",
    "\n"
   ]
  },
  {
   "cell_type": "markdown",
   "metadata": {},
   "source": [
    "#### Score Summaries Once more:\n",
    "\n",
    "#### Categorical Score Summary\n",
    "- `train R2 score`: 0.6578429575225204\n",
    "- `test R2 score`: 0.5762651698596276\n",
    "- `cross val score`: 0.6163932809393643\n",
    "- `R2 Score (without split)`: 0.6455431466231798\n",
    "- `RMSE Train/Split score`: 46848.294477176525\n",
    "- `RMSE on full features`: 47592.55017675726\n",
    "    \n",
    "#### Conclusions:\n",
    "Our training set is definitely overfit, with the cross val and test scores showing .03-.04 difference implies our model has higher variance (test and crossval lower than our training score). \n",
    "\n",
    "We will proceed to now test numerical features.\n",
    "\n",
    "#### Numercal Score Summary\n",
    "- `train R2 score`: 0.7553817990521428\n",
    "- `test R2 score`: 0.7636609305004238\n",
    "- `cross val score`: 0.7464907120547879\n",
    "- `R2 Score (without split)`: 0.7576575430618783\n",
    "- `RMSE Train/Split score`: 38611.440491748916\n",
    "- `RMSE on full features`: 39003.28692496293\n",
    "\n",
    "#### Conclusions:\n",
    "Numerical columns definitely had a stronger R2 score, the change in test r2 vs cross-val(cv) implies we may be underfit, but with low variance. It's certainly our better model so far\n",
    "\n",
    "\n",
    "##### Scaled Score Summary\n",
    "- `train R2 score`: 0.6723902525839343\n",
    "- `test R2 score`: 0.7294544670268371\n",
    "- `cross val score`: 0.634384215358273\n",
    "- `R2 Score (without split)`: 0.6887855968651643\n",
    "- `RMSE Train/Split score`: 44683.792650829135\n",
    "- `RMSE on full features`: 44338.90383859943\n",
    "\n",
    "\n",
    "#### Conclusions:\n",
    "Adding our scaled data revelead a high variance with the increase in test R2 score. CV scoring implies there may have been some data imbalance with train/split.\n",
    "<br><br> Our overal r2 sits at a lower .67 with RMSE rising higher than the numericals.\n",
    "\n",
    "\n",
    "\n",
    "\n"
   ]
  }
 ],
 "metadata": {
  "kernelspec": {
   "display_name": "Python 3",
   "language": "python",
   "name": "python3"
  },
  "language_info": {
   "codemirror_mode": {
    "name": "ipython",
    "version": 3
   },
   "file_extension": ".py",
   "mimetype": "text/x-python",
   "name": "python",
   "nbconvert_exporter": "python",
   "pygments_lexer": "ipython3",
   "version": "3.7.6"
  }
 },
 "nbformat": 4,
 "nbformat_minor": 4
}
